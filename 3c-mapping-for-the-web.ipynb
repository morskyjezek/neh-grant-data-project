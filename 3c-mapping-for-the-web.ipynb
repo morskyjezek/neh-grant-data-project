{
 "cells": [
  {
   "cell_type": "markdown",
   "metadata": {},
   "source": [
    "# 3c. Mapping for the web / interactive maps\n",
    "\n",
    "The previous notebooks walked through the process of using the gejson data to create\n",
    "geospatial visualizations by mapping points on geoshapes. \n",
    "This notebooks moves on to create interactive, web-friendly maps, like Google Maps, that are \n",
    "likely more familiar to everyday users. \n",
    "The goal is to plot the grant information from the 1960s on a map background that allows zooming in and out,\n",
    "repositioning, and the option to click on each point to get information about the referenced grant.\n",
    "\n",
    "## Mapping the geojson\n",
    "\n",
    "One way to do this is to use the leaflet.js javascript library, which will knit together the map tiles\n",
    "and the grant data. The map created will exist outside of this\n",
    "notebook, but the notebook will walk through the steps to create the interactive map. \n",
    "\n",
    "Leaflet is a library of tools, written in javascript, that help display geospatial information\n",
    "via web browsers. We will use regular approaches to web publishing to create, display, and share\n",
    "the map. These elements that power the map will include: \n",
    "\n",
    "* an HTML file that will pull in leaflet and create the basic page framework for the map\n",
    "* a javascript file that will use the leaflet tools to extract and load the geojson data \n",
    "* a CSS file to style and modify the display of the map\n",
    "\n",
    "The process is outlined in a clear and approachable way by Kim Pham in \"Web Mapping with Python and Leaflet,\" _Programming Historian_ 6 (2017), [doi:10.46430/phen0070](https://doi.org/10.46430/phen0070)."
   ]
  },
  {
   "cell_type": "markdown",
   "metadata": {},
   "source": [
    "Because the html and css elements of this step are the shortest, I will walk through those first.\n",
    "\n",
    "### HTML page: basic-map-neh-1960s-leaflet.html\n",
    "\n",
    "describe"
   ]
  },
  {
   "cell_type": "code",
   "execution_count": null,
   "metadata": {},
   "outputs": [],
   "source": []
  }
 ],
 "metadata": {
  "kernelspec": {
   "display_name": "Python 3",
   "language": "python",
   "name": "python3"
  },
  "language_info": {
   "codemirror_mode": {
    "name": "ipython",
    "version": 3
   },
   "file_extension": ".py",
   "mimetype": "text/x-python",
   "name": "python",
   "nbconvert_exporter": "python",
   "pygments_lexer": "ipython3",
   "version": "3.7.6"
  }
 },
 "nbformat": 4,
 "nbformat_minor": 4
}
