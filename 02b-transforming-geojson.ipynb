{
 "cells": [
  {
   "cell_type": "markdown",
   "metadata": {},
   "source": [
    "# 02b. Cleaning and Transforming to Create a Geospatial Dataset\n",
    "\n",
    "This notebook demonstrates some of the steps involved in cleaning the NEH grant data, checking on quality and consistency, and then transforming the data into geospatial information that can be the basis of a map. While most of the data is contained within the steps and cells of this notebook, at the end there is a script to use to export the final information as `geojson`, which can be used elsewhere or for other purposes. It is more consistent and portable than the original data.\n",
    "\n",
    "## Setup\n",
    "\n",
    "For this activity, we will use some Python modules that may not be in the standard JupyterLab configuration. If you do not have them, you may need to install some of these modules: `geojson` ([here](https://pypi.org/project/geojson/#installation)), `geopandas` ([here](https://pypi.org/project/geopandas/)), `geopy` ([here](https://pypi.org/project/geopy/)), `descartes` ([here](https://pypi.org/project/descartes/)), and `shapely` ([here](https://pypi.org/project/shapely/))."
   ]
  },
  {
   "cell_type": "code",
   "execution_count": null,
   "metadata": {},
   "outputs": [],
   "source": [
    "# if you do not have the modules, uncomment the following line(s) to install\n",
    "#!pip install geojson\n",
    "#!pip install geopandas\n",
    "#!pip install descartes\n",
    "#!pip install geopy"
   ]
  },
  {
   "cell_type": "code",
   "execution_count": 1,
   "metadata": {},
   "outputs": [],
   "source": [
    "# modules for data cleaning & transformation\n",
    "import pandas as pd\n",
    "import geopandas as gpd\n",
    "\n",
    "# basic visualization\n",
    "import matplotlib.pyplot as plt\n",
    "%matplotlib inline"
   ]
  },
  {
   "cell_type": "code",
   "execution_count": 2,
   "metadata": {},
   "outputs": [],
   "source": [
    "# modules for mapping\n",
    "from shapely.geometry import Point\n",
    "\n",
    "# may use for additional visualization\n",
    "import seaborn as sns\n",
    "\n",
    "# modules for geocoding\n",
    "from geopy.geocoders import Nominatim\n",
    "from geopy.extra.rate_limiter import RateLimiter\n",
    "from time import sleep"
   ]
  },
  {
   "cell_type": "markdown",
   "metadata": {},
   "source": [
    "## Clean and filter the grant data using pandas\n",
    "\n",
    "First, let's explore the grant data and clean it up so that we can define the points that we will map - there should be one coordinate location for each grant that we want to display. For this task, we will begin using the `pandas` modules for working with data. "
   ]
  },
  {
   "cell_type": "code",
   "execution_count": 3,
   "metadata": {},
   "outputs": [
    {
     "data": {
      "text/html": [
       "<div>\n",
       "<style scoped>\n",
       "    .dataframe tbody tr th:only-of-type {\n",
       "        vertical-align: middle;\n",
       "    }\n",
       "\n",
       "    .dataframe tbody tr th {\n",
       "        vertical-align: top;\n",
       "    }\n",
       "\n",
       "    .dataframe thead th {\n",
       "        text-align: right;\n",
       "    }\n",
       "</style>\n",
       "<table border=\"1\" class=\"dataframe\">\n",
       "  <thead>\n",
       "    <tr style=\"text-align: right;\">\n",
       "      <th></th>\n",
       "      <th>AppNumber</th>\n",
       "      <th>ApplicantType</th>\n",
       "      <th>Institution</th>\n",
       "      <th>OrganizationType</th>\n",
       "      <th>InstCity</th>\n",
       "      <th>InstState</th>\n",
       "      <th>InstPostalCode</th>\n",
       "      <th>InstCountry</th>\n",
       "      <th>CongressionalDistrict</th>\n",
       "      <th>Latitude</th>\n",
       "      <th>...</th>\n",
       "      <th>EndGrant</th>\n",
       "      <th>ProjectDesc</th>\n",
       "      <th>ToSupport</th>\n",
       "      <th>PrimaryDiscipline</th>\n",
       "      <th>SupplementCount</th>\n",
       "      <th>Supplements</th>\n",
       "      <th>ParticipantCount</th>\n",
       "      <th>Participants</th>\n",
       "      <th>DisciplineCount</th>\n",
       "      <th>Disciplines</th>\n",
       "    </tr>\n",
       "  </thead>\n",
       "  <tbody>\n",
       "    <tr>\n",
       "      <th>0</th>\n",
       "      <td>FB-10007-68</td>\n",
       "      <td>2</td>\n",
       "      <td>Regents of the University of California, Berkeley</td>\n",
       "      <td>Four-Year College</td>\n",
       "      <td>Berkeley</td>\n",
       "      <td>CA</td>\n",
       "      <td>94704-5940</td>\n",
       "      <td>USA</td>\n",
       "      <td>13</td>\n",
       "      <td>37.87029</td>\n",
       "      <td>...</td>\n",
       "      <td>1969-12-31</td>\n",
       "      <td>No description</td>\n",
       "      <td>No to support statement</td>\n",
       "      <td>English</td>\n",
       "      <td>0</td>\n",
       "      <td>NaN</td>\n",
       "      <td>1</td>\n",
       "      <td>John Elliot [Project Director]</td>\n",
       "      <td>1</td>\n",
       "      <td>English</td>\n",
       "    </tr>\n",
       "    <tr>\n",
       "      <th>1</th>\n",
       "      <td>FB-10009-68</td>\n",
       "      <td>2</td>\n",
       "      <td>Pitzer College</td>\n",
       "      <td>Four-Year College</td>\n",
       "      <td>Claremont</td>\n",
       "      <td>CA</td>\n",
       "      <td>91711-6101</td>\n",
       "      <td>USA</td>\n",
       "      <td>27</td>\n",
       "      <td>34.10373</td>\n",
       "      <td>...</td>\n",
       "      <td>1969-12-31</td>\n",
       "      <td>No description</td>\n",
       "      <td>No to support statement</td>\n",
       "      <td>History of Religion</td>\n",
       "      <td>0</td>\n",
       "      <td>NaN</td>\n",
       "      <td>1</td>\n",
       "      <td>Steven Matthysse [Project Director]</td>\n",
       "      <td>1</td>\n",
       "      <td>History of Religion</td>\n",
       "    </tr>\n",
       "    <tr>\n",
       "      <th>2</th>\n",
       "      <td>FB-10015-68</td>\n",
       "      <td>2</td>\n",
       "      <td>University of California, Riverside</td>\n",
       "      <td>University</td>\n",
       "      <td>Riverside</td>\n",
       "      <td>CA</td>\n",
       "      <td>92521-0001</td>\n",
       "      <td>USA</td>\n",
       "      <td>41</td>\n",
       "      <td>33.97561</td>\n",
       "      <td>...</td>\n",
       "      <td>1969-12-31</td>\n",
       "      <td>No description</td>\n",
       "      <td>No to support statement</td>\n",
       "      <td>History, General</td>\n",
       "      <td>0</td>\n",
       "      <td>NaN</td>\n",
       "      <td>1</td>\n",
       "      <td>John Staude [Project Director]</td>\n",
       "      <td>1</td>\n",
       "      <td>History, General</td>\n",
       "    </tr>\n",
       "    <tr>\n",
       "      <th>3</th>\n",
       "      <td>FB-10019-68</td>\n",
       "      <td>2</td>\n",
       "      <td>Northeastern University</td>\n",
       "      <td>Four-Year College</td>\n",
       "      <td>Boston</td>\n",
       "      <td>MA</td>\n",
       "      <td>02115-5005</td>\n",
       "      <td>USA</td>\n",
       "      <td>7</td>\n",
       "      <td>42.3395</td>\n",
       "      <td>...</td>\n",
       "      <td>1969-12-31</td>\n",
       "      <td>No description</td>\n",
       "      <td>No to support statement</td>\n",
       "      <td>History, General</td>\n",
       "      <td>0</td>\n",
       "      <td>NaN</td>\n",
       "      <td>1</td>\n",
       "      <td>Thomas Havens [Project Director]</td>\n",
       "      <td>1</td>\n",
       "      <td>History, General</td>\n",
       "    </tr>\n",
       "    <tr>\n",
       "      <th>4</th>\n",
       "      <td>FB-10023-68</td>\n",
       "      <td>2</td>\n",
       "      <td>University of Pennsylvania</td>\n",
       "      <td>University</td>\n",
       "      <td>Philadelphia</td>\n",
       "      <td>PA</td>\n",
       "      <td>19104-6205</td>\n",
       "      <td>USA</td>\n",
       "      <td>3</td>\n",
       "      <td>39.95298</td>\n",
       "      <td>...</td>\n",
       "      <td>1969-12-31</td>\n",
       "      <td>No description</td>\n",
       "      <td>No to support statement</td>\n",
       "      <td>Psychology</td>\n",
       "      <td>0</td>\n",
       "      <td>NaN</td>\n",
       "      <td>1</td>\n",
       "      <td>Gresham Riley [Project Director]</td>\n",
       "      <td>1</td>\n",
       "      <td>Psychology</td>\n",
       "    </tr>\n",
       "  </tbody>\n",
       "</table>\n",
       "<p>5 rows × 33 columns</p>\n",
       "</div>"
      ],
      "text/plain": [
       "     AppNumber  ApplicantType  \\\n",
       "0  FB-10007-68              2   \n",
       "1  FB-10009-68              2   \n",
       "2  FB-10015-68              2   \n",
       "3  FB-10019-68              2   \n",
       "4  FB-10023-68              2   \n",
       "\n",
       "                                         Institution   OrganizationType  \\\n",
       "0  Regents of the University of California, Berkeley  Four-Year College   \n",
       "1                                     Pitzer College  Four-Year College   \n",
       "2                University of California, Riverside         University   \n",
       "3                            Northeastern University  Four-Year College   \n",
       "4                         University of Pennsylvania         University   \n",
       "\n",
       "       InstCity InstState InstPostalCode InstCountry  CongressionalDistrict  \\\n",
       "0      Berkeley        CA     94704-5940         USA                     13   \n",
       "1     Claremont        CA     91711-6101         USA                     27   \n",
       "2     Riverside        CA     92521-0001         USA                     41   \n",
       "3        Boston        MA     02115-5005         USA                      7   \n",
       "4  Philadelphia        PA     19104-6205         USA                      3   \n",
       "\n",
       "   Latitude  ...    EndGrant     ProjectDesc                ToSupport  \\\n",
       "0  37.87029  ...  1969-12-31  No description  No to support statement   \n",
       "1  34.10373  ...  1969-12-31  No description  No to support statement   \n",
       "2  33.97561  ...  1969-12-31  No description  No to support statement   \n",
       "3   42.3395  ...  1969-12-31  No description  No to support statement   \n",
       "4  39.95298  ...  1969-12-31  No description  No to support statement   \n",
       "\n",
       "     PrimaryDiscipline SupplementCount Supplements  ParticipantCount  \\\n",
       "0              English               0         NaN                 1   \n",
       "1  History of Religion               0         NaN                 1   \n",
       "2     History, General               0         NaN                 1   \n",
       "3     History, General               0         NaN                 1   \n",
       "4           Psychology               0         NaN                 1   \n",
       "\n",
       "                          Participants  DisciplineCount          Disciplines  \n",
       "0       John Elliot [Project Director]                1              English  \n",
       "1  Steven Matthysse [Project Director]                1  History of Religion  \n",
       "2       John Staude [Project Director]                1     History, General  \n",
       "3     Thomas Havens [Project Director]                1     History, General  \n",
       "4     Gresham Riley [Project Director]                1           Psychology  \n",
       "\n",
       "[5 rows x 33 columns]"
      ]
     },
     "execution_count": 3,
     "metadata": {},
     "output_type": "execute_result"
    }
   ],
   "source": [
    "df_grants_1960s = pd.read_csv('neh-grants-data-202012/data/NEH_Grants1960s.csv')\n",
    "\n",
    "df_grants_1960s.head()"
   ]
  },
  {
   "cell_type": "markdown",
   "metadata": {},
   "source": [
    "It's important to explore the dataset a bit first, so we can understand it better, do a sanity check, and identify the information that is needed to create a new set of mappable point data. The pandas library allows to easily do some of this basic work, including characterizing the shape of the data, seeing what datatypes it includes, and whether it is missing values."
   ]
  },
  {
   "cell_type": "code",
   "execution_count": 4,
   "metadata": {},
   "outputs": [
    {
     "name": "stdout",
     "output_type": "stream",
     "text": [
      "<class 'pandas.core.frame.DataFrame'>\n",
      "RangeIndex: 1010 entries, 0 to 1009\n",
      "Data columns (total 33 columns):\n",
      " #   Column                 Non-Null Count  Dtype  \n",
      "---  ------                 --------------  -----  \n",
      " 0   AppNumber              1010 non-null   object \n",
      " 1   ApplicantType          1010 non-null   int64  \n",
      " 2   Institution            1010 non-null   object \n",
      " 3   OrganizationType       1010 non-null   object \n",
      " 4   InstCity               1010 non-null   object \n",
      " 5   InstState              1010 non-null   object \n",
      " 6   InstPostalCode         1010 non-null   object \n",
      " 7   InstCountry            1010 non-null   object \n",
      " 8   CongressionalDistrict  1010 non-null   int64  \n",
      " 9   Latitude               1010 non-null   object \n",
      " 10  Longitude              1010 non-null   object \n",
      " 11  CouncilDate            1010 non-null   object \n",
      " 12  YearAwarded            1010 non-null   int64  \n",
      " 13  ProjectTitle           1010 non-null   object \n",
      " 14  Program                1010 non-null   object \n",
      " 15  Division               1010 non-null   object \n",
      " 16  ApprovedOutright       1010 non-null   float64\n",
      " 17  ApprovedMatching       1010 non-null   float64\n",
      " 18  AwardOutright          1010 non-null   float64\n",
      " 19  AwardMatching          1010 non-null   float64\n",
      " 20  OriginalAmount         1010 non-null   float64\n",
      " 21  SupplementAmount       1010 non-null   float64\n",
      " 22  BeginGrant             1010 non-null   object \n",
      " 23  EndGrant               1010 non-null   object \n",
      " 24  ProjectDesc            1010 non-null   object \n",
      " 25  ToSupport              1010 non-null   object \n",
      " 26  PrimaryDiscipline      1010 non-null   object \n",
      " 27  SupplementCount        1010 non-null   int64  \n",
      " 28  Supplements            0 non-null      float64\n",
      " 29  ParticipantCount       1010 non-null   int64  \n",
      " 30  Participants           960 non-null    object \n",
      " 31  DisciplineCount        1010 non-null   int64  \n",
      " 32  Disciplines            1010 non-null   object \n",
      "dtypes: float64(7), int64(6), object(20)\n",
      "memory usage: 260.5+ KB\n"
     ]
    }
   ],
   "source": [
    "df_grants_1960s.info()"
   ]
  },
  {
   "cell_type": "markdown",
   "metadata": {},
   "source": [
    "Latitude and Longitude series are listed as data objects, not numeric data. I will convert these into numeric data later since it is necessary to process them into geospatial coordinates as numbers, not strings. On closer inspection, many of these fields include the strings \"Unknown\", \"unknown\", or \"Un\", which I also want to change to null or None values. First, though, I will create a new data frame so this original data can be recovered later, if necessary, and also drop some of the information that I won't need to map the grants. "
   ]
  },
  {
   "cell_type": "markdown",
   "metadata": {},
   "source": [
    "### Data quality checking and cleaning\n",
    "\n",
    "There's a lot of information here that won't help to map the data. Aside from the information for location of the points (that is, `Latitude` and `Longitude`), I will keep some for use in a popup that can be displayed when hovering over a point on the map. \n",
    "\n",
    "I regularly use panda's `isnull()` and `info()` functions below to look for blank cells or missing information. "
   ]
  },
  {
   "cell_type": "code",
   "execution_count": 5,
   "metadata": {},
   "outputs": [
    {
     "data": {
      "text/html": [
       "<div>\n",
       "<style scoped>\n",
       "    .dataframe tbody tr th:only-of-type {\n",
       "        vertical-align: middle;\n",
       "    }\n",
       "\n",
       "    .dataframe tbody tr th {\n",
       "        vertical-align: top;\n",
       "    }\n",
       "\n",
       "    .dataframe thead th {\n",
       "        text-align: right;\n",
       "    }\n",
       "</style>\n",
       "<table border=\"1\" class=\"dataframe\">\n",
       "  <thead>\n",
       "    <tr style=\"text-align: right;\">\n",
       "      <th></th>\n",
       "      <th>AppNumber</th>\n",
       "      <th>Institution</th>\n",
       "      <th>InstCity</th>\n",
       "      <th>InstState</th>\n",
       "      <th>InstPostalCode</th>\n",
       "      <th>InstCountry</th>\n",
       "      <th>CongressionalDistrict</th>\n",
       "      <th>Latitude</th>\n",
       "      <th>Longitude</th>\n",
       "      <th>YearAwarded</th>\n",
       "      <th>ProjectTitle</th>\n",
       "      <th>Program</th>\n",
       "      <th>Division</th>\n",
       "      <th>AwardOutright</th>\n",
       "      <th>AwardMatching</th>\n",
       "      <th>ProjectDesc</th>\n",
       "      <th>ToSupport</th>\n",
       "      <th>Participants</th>\n",
       "      <th>Disciplines</th>\n",
       "    </tr>\n",
       "  </thead>\n",
       "  <tbody>\n",
       "    <tr>\n",
       "      <th>0</th>\n",
       "      <td>FB-10007-68</td>\n",
       "      <td>Regents of the University of California, Berkeley</td>\n",
       "      <td>Berkeley</td>\n",
       "      <td>CA</td>\n",
       "      <td>94704-5940</td>\n",
       "      <td>USA</td>\n",
       "      <td>13</td>\n",
       "      <td>37.87029</td>\n",
       "      <td>-122.26813</td>\n",
       "      <td>1967</td>\n",
       "      <td>Title not available</td>\n",
       "      <td>Fellowships for Younger Scholars</td>\n",
       "      <td>Fellowships and Seminars</td>\n",
       "      <td>8387.0</td>\n",
       "      <td>0.0</td>\n",
       "      <td>No description</td>\n",
       "      <td>No to support statement</td>\n",
       "      <td>John Elliot [Project Director]</td>\n",
       "      <td>English</td>\n",
       "    </tr>\n",
       "    <tr>\n",
       "      <th>1</th>\n",
       "      <td>FB-10009-68</td>\n",
       "      <td>Pitzer College</td>\n",
       "      <td>Claremont</td>\n",
       "      <td>CA</td>\n",
       "      <td>91711-6101</td>\n",
       "      <td>USA</td>\n",
       "      <td>27</td>\n",
       "      <td>34.10373</td>\n",
       "      <td>-117.70701</td>\n",
       "      <td>1967</td>\n",
       "      <td>Title not available</td>\n",
       "      <td>Fellowships for Younger Scholars</td>\n",
       "      <td>Fellowships and Seminars</td>\n",
       "      <td>8387.0</td>\n",
       "      <td>0.0</td>\n",
       "      <td>No description</td>\n",
       "      <td>No to support statement</td>\n",
       "      <td>Steven Matthysse [Project Director]</td>\n",
       "      <td>History of Religion</td>\n",
       "    </tr>\n",
       "    <tr>\n",
       "      <th>2</th>\n",
       "      <td>FB-10015-68</td>\n",
       "      <td>University of California, Riverside</td>\n",
       "      <td>Riverside</td>\n",
       "      <td>CA</td>\n",
       "      <td>92521-0001</td>\n",
       "      <td>USA</td>\n",
       "      <td>41</td>\n",
       "      <td>33.97561</td>\n",
       "      <td>-117.33113</td>\n",
       "      <td>1967</td>\n",
       "      <td>Title not available</td>\n",
       "      <td>Fellowships for Younger Scholars</td>\n",
       "      <td>Fellowships and Seminars</td>\n",
       "      <td>8387.0</td>\n",
       "      <td>0.0</td>\n",
       "      <td>No description</td>\n",
       "      <td>No to support statement</td>\n",
       "      <td>John Staude [Project Director]</td>\n",
       "      <td>History, General</td>\n",
       "    </tr>\n",
       "    <tr>\n",
       "      <th>3</th>\n",
       "      <td>FB-10019-68</td>\n",
       "      <td>Northeastern University</td>\n",
       "      <td>Boston</td>\n",
       "      <td>MA</td>\n",
       "      <td>02115-5005</td>\n",
       "      <td>USA</td>\n",
       "      <td>7</td>\n",
       "      <td>42.3395</td>\n",
       "      <td>-71.09048</td>\n",
       "      <td>1967</td>\n",
       "      <td>Title not available</td>\n",
       "      <td>Fellowships for Younger Scholars</td>\n",
       "      <td>Fellowships and Seminars</td>\n",
       "      <td>8387.0</td>\n",
       "      <td>0.0</td>\n",
       "      <td>No description</td>\n",
       "      <td>No to support statement</td>\n",
       "      <td>Thomas Havens [Project Director]</td>\n",
       "      <td>History, General</td>\n",
       "    </tr>\n",
       "    <tr>\n",
       "      <th>4</th>\n",
       "      <td>FB-10023-68</td>\n",
       "      <td>University of Pennsylvania</td>\n",
       "      <td>Philadelphia</td>\n",
       "      <td>PA</td>\n",
       "      <td>19104-6205</td>\n",
       "      <td>USA</td>\n",
       "      <td>3</td>\n",
       "      <td>39.95298</td>\n",
       "      <td>-75.19276</td>\n",
       "      <td>1967</td>\n",
       "      <td>Title not available</td>\n",
       "      <td>Fellowships for Younger Scholars</td>\n",
       "      <td>Fellowships and Seminars</td>\n",
       "      <td>8387.0</td>\n",
       "      <td>0.0</td>\n",
       "      <td>No description</td>\n",
       "      <td>No to support statement</td>\n",
       "      <td>Gresham Riley [Project Director]</td>\n",
       "      <td>Psychology</td>\n",
       "    </tr>\n",
       "  </tbody>\n",
       "</table>\n",
       "</div>"
      ],
      "text/plain": [
       "     AppNumber                                        Institution  \\\n",
       "0  FB-10007-68  Regents of the University of California, Berkeley   \n",
       "1  FB-10009-68                                     Pitzer College   \n",
       "2  FB-10015-68                University of California, Riverside   \n",
       "3  FB-10019-68                            Northeastern University   \n",
       "4  FB-10023-68                         University of Pennsylvania   \n",
       "\n",
       "       InstCity InstState InstPostalCode InstCountry  CongressionalDistrict  \\\n",
       "0      Berkeley        CA     94704-5940         USA                     13   \n",
       "1     Claremont        CA     91711-6101         USA                     27   \n",
       "2     Riverside        CA     92521-0001         USA                     41   \n",
       "3        Boston        MA     02115-5005         USA                      7   \n",
       "4  Philadelphia        PA     19104-6205         USA                      3   \n",
       "\n",
       "   Latitude   Longitude  YearAwarded         ProjectTitle  \\\n",
       "0  37.87029  -122.26813         1967  Title not available   \n",
       "1  34.10373  -117.70701         1967  Title not available   \n",
       "2  33.97561  -117.33113         1967  Title not available   \n",
       "3   42.3395   -71.09048         1967  Title not available   \n",
       "4  39.95298   -75.19276         1967  Title not available   \n",
       "\n",
       "                            Program                  Division  AwardOutright  \\\n",
       "0  Fellowships for Younger Scholars  Fellowships and Seminars         8387.0   \n",
       "1  Fellowships for Younger Scholars  Fellowships and Seminars         8387.0   \n",
       "2  Fellowships for Younger Scholars  Fellowships and Seminars         8387.0   \n",
       "3  Fellowships for Younger Scholars  Fellowships and Seminars         8387.0   \n",
       "4  Fellowships for Younger Scholars  Fellowships and Seminars         8387.0   \n",
       "\n",
       "   AwardMatching     ProjectDesc                ToSupport  \\\n",
       "0            0.0  No description  No to support statement   \n",
       "1            0.0  No description  No to support statement   \n",
       "2            0.0  No description  No to support statement   \n",
       "3            0.0  No description  No to support statement   \n",
       "4            0.0  No description  No to support statement   \n",
       "\n",
       "                          Participants          Disciplines  \n",
       "0       John Elliot [Project Director]              English  \n",
       "1  Steven Matthysse [Project Director]  History of Religion  \n",
       "2       John Staude [Project Director]     History, General  \n",
       "3     Thomas Havens [Project Director]     History, General  \n",
       "4     Gresham Riley [Project Director]           Psychology  "
      ]
     },
     "execution_count": 5,
     "metadata": {},
     "output_type": "execute_result"
    }
   ],
   "source": [
    "mappable_grant_info = df_grants_1960s.drop(['ApplicantType','OrganizationType','CouncilDate','ApprovedOutright','ApprovedMatching','OriginalAmount','SupplementAmount','BeginGrant','EndGrant','PrimaryDiscipline','SupplementCount','Supplements','ParticipantCount','DisciplineCount'], axis=1)\n",
    "\n",
    "mappable_grant_info.head()"
   ]
  },
  {
   "cell_type": "code",
   "execution_count": 6,
   "metadata": {},
   "outputs": [
    {
     "name": "stdout",
     "output_type": "stream",
     "text": [
      "<class 'pandas.core.frame.DataFrame'>\n",
      "RangeIndex: 1010 entries, 0 to 1009\n",
      "Data columns (total 19 columns):\n",
      " #   Column                 Non-Null Count  Dtype  \n",
      "---  ------                 --------------  -----  \n",
      " 0   AppNumber              1010 non-null   object \n",
      " 1   Institution            1010 non-null   object \n",
      " 2   InstCity               1010 non-null   object \n",
      " 3   InstState              1010 non-null   object \n",
      " 4   InstPostalCode         1010 non-null   object \n",
      " 5   InstCountry            1010 non-null   object \n",
      " 6   CongressionalDistrict  1010 non-null   int64  \n",
      " 7   Latitude               1010 non-null   object \n",
      " 8   Longitude              1010 non-null   object \n",
      " 9   YearAwarded            1010 non-null   int64  \n",
      " 10  ProjectTitle           1010 non-null   object \n",
      " 11  Program                1010 non-null   object \n",
      " 12  Division               1010 non-null   object \n",
      " 13  AwardOutright          1010 non-null   float64\n",
      " 14  AwardMatching          1010 non-null   float64\n",
      " 15  ProjectDesc            1010 non-null   object \n",
      " 16  ToSupport              1010 non-null   object \n",
      " 17  Participants           960 non-null    object \n",
      " 18  Disciplines            1010 non-null   object \n",
      "dtypes: float64(2), int64(2), object(15)\n",
      "memory usage: 150.0+ KB\n"
     ]
    }
   ],
   "source": [
    "mappable_grant_info.info()"
   ]
  },
  {
   "cell_type": "markdown",
   "metadata": {},
   "source": [
    "While there are entries for each grant, on closer inspection it is clear that there are some data quality issues. For example, a lot of grants seem to be missing `Participants` information, and the latitude and longitude information, which will be the basis for our mapping goal, is not numerical but listed as an object type of data. As I can see in the above cell, much of the information is described as \"object,\" which in these case are mostly string data, which will not be possible to convert into coordinate points. \n",
    "\n",
    "This means that there is more data cleaning to do before the data is ready to map. I used the following methods to get more information about specific data fields, including `AppNumber` (the data element that is most like a unique identifier), `Latitude` (a creator-generated field, which is presumably generated by a geocoding algorithm), \n",
    "and `InstCountry`."
   ]
  },
  {
   "cell_type": "code",
   "execution_count": 7,
   "metadata": {},
   "outputs": [
    {
     "data": {
      "text/plain": [
       "RO-10389       1\n",
       "EO-10051-68    1\n",
       "RO-10259-68    1\n",
       "FB-10225-68    1\n",
       "FT-10147-67    1\n",
       "              ..\n",
       "EO-10302-69    1\n",
       "EO-10085-69    1\n",
       "EO-10242-69    1\n",
       "FT-10294-68    1\n",
       "FT-10157-67    1\n",
       "Name: AppNumber, Length: 1010, dtype: int64"
      ]
     },
     "execution_count": 7,
     "metadata": {},
     "output_type": "execute_result"
    }
   ],
   "source": [
    "mappable_grant_info['AppNumber'].value_counts()"
   ]
  },
  {
   "cell_type": "code",
   "execution_count": 8,
   "metadata": {},
   "outputs": [
    {
     "data": {
      "text/plain": [
       "Unknown     90\n",
       "41.31003    17\n",
       "40.81835    16\n",
       "34.07516    16\n",
       "37.87029    14\n",
       "            ..\n",
       "40.771       1\n",
       "42.82649     1\n",
       "40.85069     1\n",
       "42.29017     1\n",
       "42.35675     1\n",
       "Name: Latitude, Length: 382, dtype: int64"
      ]
     },
     "execution_count": 8,
     "metadata": {},
     "output_type": "execute_result"
    }
   ],
   "source": [
    "mappable_grant_info['Latitude'].value_counts()"
   ]
  },
  {
   "cell_type": "markdown",
   "metadata": {},
   "source": [
    "In looking closer at `InstCounty`, it is clear that not all of the grants were given to recipients within the United States. As a scoping exericse, I want to remove the locations that are not within the US."
   ]
  },
  {
   "cell_type": "code",
   "execution_count": 9,
   "metadata": {},
   "outputs": [
    {
     "data": {
      "text/plain": [
       "array(['USA', 'Unknown', 'Canada', 'United Kingdom'], dtype=object)"
      ]
     },
     "execution_count": 9,
     "metadata": {},
     "output_type": "execute_result"
    }
   ],
   "source": [
    "mappable_grant_info['InstCountry'].unique()"
   ]
  },
  {
   "cell_type": "code",
   "execution_count": 10,
   "metadata": {},
   "outputs": [
    {
     "data": {
      "text/plain": [
       "USA               993\n",
       "Unknown            14\n",
       "Canada              2\n",
       "United Kingdom      1\n",
       "Name: InstCountry, dtype: int64"
      ]
     },
     "execution_count": 10,
     "metadata": {},
     "output_type": "execute_result"
    }
   ],
   "source": [
    "mappable_grant_info['InstCountry'].value_counts()"
   ]
  },
  {
   "cell_type": "markdown",
   "metadata": {},
   "source": [
    "Many of the grant entries list `Unknown` or `unknown` in the fields with information about country, institution, and even latitude or longitude. This challenges our mapping project since if we cannot locate a grant, we cannot create a point to place it on the map. To address these challenges, we need first to identify grants withough location information, then we need to get the locations of the places without latitude and longitude. For the latter step, we will use a geocoding module."
   ]
  },
  {
   "cell_type": "markdown",
   "metadata": {},
   "source": [
    "For scoping, let's drop the UK and Canada grants, and then see whether we can geolocate the unknowns."
   ]
  },
  {
   "cell_type": "code",
   "execution_count": 11,
   "metadata": {},
   "outputs": [],
   "source": [
    "#filter out Canada & UK\n",
    "mappable_grant_info = mappable_grant_info[mappable_grant_info['InstCountry'].isin(['Canada','United Kingdom']) == False]"
   ]
  },
  {
   "cell_type": "code",
   "execution_count": 12,
   "metadata": {},
   "outputs": [
    {
     "data": {
      "text/plain": [
       "USA        993\n",
       "Unknown     14\n",
       "Name: InstCountry, dtype: int64"
      ]
     },
     "execution_count": 12,
     "metadata": {},
     "output_type": "execute_result"
    }
   ],
   "source": [
    "mappable_grant_info['InstCountry'].value_counts()"
   ]
  },
  {
   "cell_type": "markdown",
   "metadata": {},
   "source": [
    "My goal is to use information about the city and state of the award to get a geographic coordinate for the 14 listing \"Unknown\" countries. There remain, however, a few entries that don't appear to have enough information to geocode. \n",
    "\n",
    "These can be identified by the value `Un` in the `InstState` field:"
   ]
  },
  {
   "cell_type": "code",
   "execution_count": 13,
   "metadata": {},
   "outputs": [
    {
     "data": {
      "text/html": [
       "<div>\n",
       "<style scoped>\n",
       "    .dataframe tbody tr th:only-of-type {\n",
       "        vertical-align: middle;\n",
       "    }\n",
       "\n",
       "    .dataframe tbody tr th {\n",
       "        vertical-align: top;\n",
       "    }\n",
       "\n",
       "    .dataframe thead th {\n",
       "        text-align: right;\n",
       "    }\n",
       "</style>\n",
       "<table border=\"1\" class=\"dataframe\">\n",
       "  <thead>\n",
       "    <tr style=\"text-align: right;\">\n",
       "      <th></th>\n",
       "      <th>AppNumber</th>\n",
       "      <th>Institution</th>\n",
       "      <th>InstCity</th>\n",
       "      <th>InstState</th>\n",
       "      <th>InstPostalCode</th>\n",
       "      <th>InstCountry</th>\n",
       "      <th>CongressionalDistrict</th>\n",
       "      <th>Latitude</th>\n",
       "      <th>Longitude</th>\n",
       "      <th>YearAwarded</th>\n",
       "      <th>ProjectTitle</th>\n",
       "      <th>Program</th>\n",
       "      <th>Division</th>\n",
       "      <th>AwardOutright</th>\n",
       "      <th>AwardMatching</th>\n",
       "      <th>ProjectDesc</th>\n",
       "      <th>ToSupport</th>\n",
       "      <th>Participants</th>\n",
       "      <th>Disciplines</th>\n",
       "    </tr>\n",
       "  </thead>\n",
       "  <tbody>\n",
       "    <tr>\n",
       "      <th>221</th>\n",
       "      <td>FB-10243-68</td>\n",
       "      <td>Unknown</td>\n",
       "      <td>Unknown</td>\n",
       "      <td>Un</td>\n",
       "      <td>Unknown</td>\n",
       "      <td>Unknown</td>\n",
       "      <td>0</td>\n",
       "      <td>Unknown</td>\n",
       "      <td>unknown</td>\n",
       "      <td>1967</td>\n",
       "      <td>Title not available</td>\n",
       "      <td>Fellowships for College Teachers and Independe...</td>\n",
       "      <td>Research Programs</td>\n",
       "      <td>8387.0</td>\n",
       "      <td>0.0</td>\n",
       "      <td>No description</td>\n",
       "      <td>No to support statement</td>\n",
       "      <td>NaN</td>\n",
       "      <td>Comparative Literature</td>\n",
       "    </tr>\n",
       "    <tr>\n",
       "      <th>337</th>\n",
       "      <td>FT-10440-68</td>\n",
       "      <td>Unknown</td>\n",
       "      <td>Unknown</td>\n",
       "      <td>Un</td>\n",
       "      <td>Unknown</td>\n",
       "      <td>Unknown</td>\n",
       "      <td>0</td>\n",
       "      <td>Unknown</td>\n",
       "      <td>unknown</td>\n",
       "      <td>1967</td>\n",
       "      <td>Title not available</td>\n",
       "      <td>Summer Stipends</td>\n",
       "      <td>Research Programs</td>\n",
       "      <td>1500.0</td>\n",
       "      <td>0.0</td>\n",
       "      <td>No description</td>\n",
       "      <td>No to support statement</td>\n",
       "      <td>NaN</td>\n",
       "      <td>English</td>\n",
       "    </tr>\n",
       "    <tr>\n",
       "      <th>428</th>\n",
       "      <td>RO-10048-67</td>\n",
       "      <td>Unknown</td>\n",
       "      <td>Unknown</td>\n",
       "      <td>Un</td>\n",
       "      <td>Unknown</td>\n",
       "      <td>Unknown</td>\n",
       "      <td>0</td>\n",
       "      <td>Unknown</td>\n",
       "      <td>unknown</td>\n",
       "      <td>1967</td>\n",
       "      <td>Biography of Theodore Roethke</td>\n",
       "      <td>Basic Research</td>\n",
       "      <td>Research Programs</td>\n",
       "      <td>5000.0</td>\n",
       "      <td>0.0</td>\n",
       "      <td>No description</td>\n",
       "      <td>No to support statement</td>\n",
       "      <td>NaN</td>\n",
       "      <td>Art History and Criticism</td>\n",
       "    </tr>\n",
       "    <tr>\n",
       "      <th>429</th>\n",
       "      <td>RO-10050-67</td>\n",
       "      <td>Unknown</td>\n",
       "      <td>Unknown</td>\n",
       "      <td>Un</td>\n",
       "      <td>Unknown</td>\n",
       "      <td>Unknown</td>\n",
       "      <td>0</td>\n",
       "      <td>Unknown</td>\n",
       "      <td>unknown</td>\n",
       "      <td>1967</td>\n",
       "      <td>Symbolic Landscape in Modern Poetry</td>\n",
       "      <td>Basic Research</td>\n",
       "      <td>Research Programs</td>\n",
       "      <td>2000.0</td>\n",
       "      <td>0.0</td>\n",
       "      <td>No description</td>\n",
       "      <td>No to support statement</td>\n",
       "      <td>NaN</td>\n",
       "      <td>American Literature</td>\n",
       "    </tr>\n",
       "    <tr>\n",
       "      <th>454</th>\n",
       "      <td>RO-10166-67</td>\n",
       "      <td>Unknown</td>\n",
       "      <td>Unknown</td>\n",
       "      <td>Un</td>\n",
       "      <td>Unknown</td>\n",
       "      <td>Unknown</td>\n",
       "      <td>0</td>\n",
       "      <td>Unknown</td>\n",
       "      <td>unknown</td>\n",
       "      <td>1967</td>\n",
       "      <td>History of Book Publishing in America</td>\n",
       "      <td>Basic Research</td>\n",
       "      <td>Research Programs</td>\n",
       "      <td>25000.0</td>\n",
       "      <td>0.0</td>\n",
       "      <td>No description</td>\n",
       "      <td>No to support statement</td>\n",
       "      <td>NaN</td>\n",
       "      <td>History, General</td>\n",
       "    </tr>\n",
       "    <tr>\n",
       "      <th>459</th>\n",
       "      <td>RO-10211-68</td>\n",
       "      <td>Unknown</td>\n",
       "      <td>Unknown</td>\n",
       "      <td>Un</td>\n",
       "      <td>Unknown</td>\n",
       "      <td>Unknown</td>\n",
       "      <td>0</td>\n",
       "      <td>Unknown</td>\n",
       "      <td>unknown</td>\n",
       "      <td>1968</td>\n",
       "      <td>Biography of Richard Wright</td>\n",
       "      <td>Basic Research</td>\n",
       "      <td>Research Programs</td>\n",
       "      <td>8000.0</td>\n",
       "      <td>0.0</td>\n",
       "      <td>No description</td>\n",
       "      <td>No to support statement</td>\n",
       "      <td>NaN</td>\n",
       "      <td>Literature, General</td>\n",
       "    </tr>\n",
       "    <tr>\n",
       "      <th>480</th>\n",
       "      <td>RO-10317-69</td>\n",
       "      <td>Unknown</td>\n",
       "      <td>Unknown</td>\n",
       "      <td>Un</td>\n",
       "      <td>Unknown</td>\n",
       "      <td>Unknown</td>\n",
       "      <td>0</td>\n",
       "      <td>Unknown</td>\n",
       "      <td>unknown</td>\n",
       "      <td>1968</td>\n",
       "      <td>Biography of Richard Wright</td>\n",
       "      <td>Basic Research</td>\n",
       "      <td>Research Programs</td>\n",
       "      <td>8000.0</td>\n",
       "      <td>0.0</td>\n",
       "      <td>No description</td>\n",
       "      <td>No to support statement</td>\n",
       "      <td>NaN</td>\n",
       "      <td>Literature, General; Social Sciences, General</td>\n",
       "    </tr>\n",
       "    <tr>\n",
       "      <th>757</th>\n",
       "      <td>FT-10257-67</td>\n",
       "      <td>McMaster University</td>\n",
       "      <td>Ontario, Canada</td>\n",
       "      <td>Un</td>\n",
       "      <td>00000-0000</td>\n",
       "      <td>USA</td>\n",
       "      <td>1</td>\n",
       "      <td>Unknown</td>\n",
       "      <td>unknown</td>\n",
       "      <td>1967</td>\n",
       "      <td>Title not available</td>\n",
       "      <td>Summer Stipends</td>\n",
       "      <td>Research Programs</td>\n",
       "      <td>2000.0</td>\n",
       "      <td>0.0</td>\n",
       "      <td>No description</td>\n",
       "      <td>No to support statement</td>\n",
       "      <td>Chauncey Wood [Project Director]</td>\n",
       "      <td>British Literature</td>\n",
       "    </tr>\n",
       "    <tr>\n",
       "      <th>774</th>\n",
       "      <td>FT-10310-68</td>\n",
       "      <td>Simon Fraser University</td>\n",
       "      <td>B.C., Canada</td>\n",
       "      <td>Un</td>\n",
       "      <td>00000-0000</td>\n",
       "      <td>USA</td>\n",
       "      <td>0</td>\n",
       "      <td>Unknown</td>\n",
       "      <td>unknown</td>\n",
       "      <td>1967</td>\n",
       "      <td>Title not available</td>\n",
       "      <td>Summer Stipends</td>\n",
       "      <td>Research Programs</td>\n",
       "      <td>1500.0</td>\n",
       "      <td>0.0</td>\n",
       "      <td>No description</td>\n",
       "      <td>No to support statement</td>\n",
       "      <td>Jared Curtis [Project Director]</td>\n",
       "      <td>English; Literature, General</td>\n",
       "    </tr>\n",
       "  </tbody>\n",
       "</table>\n",
       "</div>"
      ],
      "text/plain": [
       "       AppNumber              Institution         InstCity InstState  \\\n",
       "221  FB-10243-68                  Unknown          Unknown        Un   \n",
       "337  FT-10440-68                  Unknown          Unknown        Un   \n",
       "428  RO-10048-67                  Unknown          Unknown        Un   \n",
       "429  RO-10050-67                  Unknown          Unknown        Un   \n",
       "454  RO-10166-67                  Unknown          Unknown        Un   \n",
       "459  RO-10211-68                  Unknown          Unknown        Un   \n",
       "480  RO-10317-69                  Unknown          Unknown        Un   \n",
       "757  FT-10257-67      McMaster University  Ontario, Canada        Un   \n",
       "774  FT-10310-68  Simon Fraser University     B.C., Canada        Un   \n",
       "\n",
       "    InstPostalCode InstCountry  CongressionalDistrict Latitude Longitude  \\\n",
       "221        Unknown     Unknown                      0  Unknown   unknown   \n",
       "337        Unknown     Unknown                      0  Unknown   unknown   \n",
       "428        Unknown     Unknown                      0  Unknown   unknown   \n",
       "429        Unknown     Unknown                      0  Unknown   unknown   \n",
       "454        Unknown     Unknown                      0  Unknown   unknown   \n",
       "459        Unknown     Unknown                      0  Unknown   unknown   \n",
       "480        Unknown     Unknown                      0  Unknown   unknown   \n",
       "757     00000-0000         USA                      1  Unknown   unknown   \n",
       "774     00000-0000         USA                      0  Unknown   unknown   \n",
       "\n",
       "     YearAwarded                           ProjectTitle  \\\n",
       "221         1967                    Title not available   \n",
       "337         1967                    Title not available   \n",
       "428         1967          Biography of Theodore Roethke   \n",
       "429         1967    Symbolic Landscape in Modern Poetry   \n",
       "454         1967  History of Book Publishing in America   \n",
       "459         1968            Biography of Richard Wright   \n",
       "480         1968            Biography of Richard Wright   \n",
       "757         1967                    Title not available   \n",
       "774         1967                    Title not available   \n",
       "\n",
       "                                               Program           Division  \\\n",
       "221  Fellowships for College Teachers and Independe...  Research Programs   \n",
       "337                                    Summer Stipends  Research Programs   \n",
       "428                                     Basic Research  Research Programs   \n",
       "429                                     Basic Research  Research Programs   \n",
       "454                                     Basic Research  Research Programs   \n",
       "459                                     Basic Research  Research Programs   \n",
       "480                                     Basic Research  Research Programs   \n",
       "757                                    Summer Stipends  Research Programs   \n",
       "774                                    Summer Stipends  Research Programs   \n",
       "\n",
       "     AwardOutright  AwardMatching     ProjectDesc                ToSupport  \\\n",
       "221         8387.0            0.0  No description  No to support statement   \n",
       "337         1500.0            0.0  No description  No to support statement   \n",
       "428         5000.0            0.0  No description  No to support statement   \n",
       "429         2000.0            0.0  No description  No to support statement   \n",
       "454        25000.0            0.0  No description  No to support statement   \n",
       "459         8000.0            0.0  No description  No to support statement   \n",
       "480         8000.0            0.0  No description  No to support statement   \n",
       "757         2000.0            0.0  No description  No to support statement   \n",
       "774         1500.0            0.0  No description  No to support statement   \n",
       "\n",
       "                         Participants  \\\n",
       "221                               NaN   \n",
       "337                               NaN   \n",
       "428                               NaN   \n",
       "429                               NaN   \n",
       "454                               NaN   \n",
       "459                               NaN   \n",
       "480                               NaN   \n",
       "757  Chauncey Wood [Project Director]   \n",
       "774   Jared Curtis [Project Director]   \n",
       "\n",
       "                                       Disciplines  \n",
       "221                         Comparative Literature  \n",
       "337                                        English  \n",
       "428                      Art History and Criticism  \n",
       "429                            American Literature  \n",
       "454                               History, General  \n",
       "459                            Literature, General  \n",
       "480  Literature, General; Social Sciences, General  \n",
       "757                             British Literature  \n",
       "774                   English; Literature, General  "
      ]
     },
     "execution_count": 13,
     "metadata": {},
     "output_type": "execute_result"
    }
   ],
   "source": [
    "mappable_grant_info[mappable_grant_info['InstState'] == 'Un']"
   ]
  },
  {
   "cell_type": "markdown",
   "metadata": {},
   "source": [
    "It is clear that most of these do not have enough information to map. The last two are in Canada, and so I don't want them anyway. So I'll remove them from the data:"
   ]
  },
  {
   "cell_type": "code",
   "execution_count": 14,
   "metadata": {},
   "outputs": [],
   "source": [
    "#filter out unknown state rows\n",
    "mappable_grant_info = mappable_grant_info[mappable_grant_info['InstState'].isin(['Un']) == False]"
   ]
  },
  {
   "cell_type": "code",
   "execution_count": 15,
   "metadata": {},
   "outputs": [
    {
     "name": "stdout",
     "output_type": "stream",
     "text": [
      "<class 'pandas.core.frame.DataFrame'>\n",
      "Int64Index: 998 entries, 0 to 1009\n",
      "Data columns (total 19 columns):\n",
      " #   Column                 Non-Null Count  Dtype  \n",
      "---  ------                 --------------  -----  \n",
      " 0   AppNumber              998 non-null    object \n",
      " 1   Institution            998 non-null    object \n",
      " 2   InstCity               998 non-null    object \n",
      " 3   InstState              998 non-null    object \n",
      " 4   InstPostalCode         998 non-null    object \n",
      " 5   InstCountry            998 non-null    object \n",
      " 6   CongressionalDistrict  998 non-null    int64  \n",
      " 7   Latitude               998 non-null    object \n",
      " 8   Longitude              998 non-null    object \n",
      " 9   YearAwarded            998 non-null    int64  \n",
      " 10  ProjectTitle           998 non-null    object \n",
      " 11  Program                998 non-null    object \n",
      " 12  Division               998 non-null    object \n",
      " 13  AwardOutright          998 non-null    float64\n",
      " 14  AwardMatching          998 non-null    float64\n",
      " 15  ProjectDesc            998 non-null    object \n",
      " 16  ToSupport              998 non-null    object \n",
      " 17  Participants           955 non-null    object \n",
      " 18  Disciplines            998 non-null    object \n",
      "dtypes: float64(2), int64(2), object(15)\n",
      "memory usage: 155.9+ KB\n"
     ]
    }
   ],
   "source": [
    "mappable_grant_info.info()"
   ]
  },
  {
   "cell_type": "markdown",
   "metadata": {},
   "source": [
    "Let's take a closer look at the latitude and longitude information, which will be the basis for determining each point to map later on. This reveals that there are still at least 78 entries without location information:"
   ]
  },
  {
   "cell_type": "code",
   "execution_count": 16,
   "metadata": {},
   "outputs": [
    {
     "data": {
      "text/plain": [
       "count         998\n",
       "unique        382\n",
       "top       Unknown\n",
       "freq           78\n",
       "Name: Latitude, dtype: object"
      ]
     },
     "execution_count": 16,
     "metadata": {},
     "output_type": "execute_result"
    }
   ],
   "source": [
    "mappable_grant_info['Latitude'].describe()"
   ]
  },
  {
   "cell_type": "code",
   "execution_count": 17,
   "metadata": {},
   "outputs": [
    {
     "data": {
      "text/plain": [
       "count         998\n",
       "unique        383\n",
       "top       unknown\n",
       "freq           78\n",
       "Name: Longitude, dtype: object"
      ]
     },
     "execution_count": 17,
     "metadata": {},
     "output_type": "execute_result"
    }
   ],
   "source": [
    "mappable_grant_info['Longitude'].describe()"
   ]
  },
  {
   "cell_type": "markdown",
   "metadata": {},
   "source": [
    "It will not be possible to map these grants without further information. My goal is to use data from the city and state location fields, which I can send to a geocoding tool in order to provide a location coordinate. To begin, I will remove the string values \"unknown\" or \"Unknown\" in the dataset and then replace them with null (blank) values, which I can filter more easily. Then, I will use Nominatim, a geocoding tool that will search for coordinate information based on the available place information."
   ]
  },
  {
   "cell_type": "code",
   "execution_count": 18,
   "metadata": {},
   "outputs": [
    {
     "name": "stdout",
     "output_type": "stream",
     "text": [
      "0       37.87029\n",
      "1       34.10373\n",
      "2       33.97561\n",
      "3        42.3395\n",
      "4       39.95298\n",
      "          ...   \n",
      "1005    40.74955\n",
      "1006    32.88647\n",
      "1007    41.02476\n",
      "1008    29.94888\n",
      "1009        None\n",
      "Name: Latitude, Length: 998, dtype: object \n",
      "\n",
      "Is it a null value? <class 'NoneType'>\n"
     ]
    }
   ],
   "source": [
    "# replace strings with null values\n",
    "nonvals = ['unknown','Unknown']\n",
    "\n",
    "mappable_grant_info = mappable_grant_info.replace(nonvals, [None, None])\n",
    "\n",
    "latlons = mappable_grant_info.loc[:,'Latitude':'Longitude']\n",
    "\n",
    "print(latlons['Latitude'],'\\n')\n",
    "print('Is it a null value?',type(mappable_grant_info.loc[1009,'Latitude']))"
   ]
  },
  {
   "cell_type": "code",
   "execution_count": 19,
   "metadata": {},
   "outputs": [
    {
     "name": "stdout",
     "output_type": "stream",
     "text": [
      "<class 'pandas.core.frame.DataFrame'>\n",
      "Int64Index: 998 entries, 0 to 1009\n",
      "Data columns (total 19 columns):\n",
      " #   Column                 Non-Null Count  Dtype  \n",
      "---  ------                 --------------  -----  \n",
      " 0   AppNumber              998 non-null    object \n",
      " 1   Institution            970 non-null    object \n",
      " 2   InstCity               997 non-null    object \n",
      " 3   InstState              998 non-null    object \n",
      " 4   InstPostalCode         970 non-null    object \n",
      " 5   InstCountry            991 non-null    object \n",
      " 6   CongressionalDistrict  998 non-null    int64  \n",
      " 7   Latitude               920 non-null    object \n",
      " 8   Longitude              920 non-null    object \n",
      " 9   YearAwarded            998 non-null    int64  \n",
      " 10  ProjectTitle           998 non-null    object \n",
      " 11  Program                998 non-null    object \n",
      " 12  Division               998 non-null    object \n",
      " 13  AwardOutright          998 non-null    float64\n",
      " 14  AwardMatching          998 non-null    float64\n",
      " 15  ProjectDesc            998 non-null    object \n",
      " 16  ToSupport              998 non-null    object \n",
      " 17  Participants           955 non-null    object \n",
      " 18  Disciplines            998 non-null    object \n",
      "dtypes: float64(2), int64(2), object(15)\n",
      "memory usage: 195.9+ KB\n"
     ]
    }
   ],
   "source": [
    "mappable_grant_info.info()"
   ]
  },
  {
   "cell_type": "markdown",
   "metadata": {},
   "source": [
    "Since there are only 920 Lat & Lon entries, that leaves the 78 unknown (now null) entries wihtout information. While it would be possible to gather this information with a tool like [Get Lat+Lon](http://teczno.com/squares/#6/41.60/-93.66), that would take while. So I will use the information about the recipient's city and state to get a general idea of where the award was given."
   ]
  },
  {
   "cell_type": "code",
   "execution_count": 20,
   "metadata": {},
   "outputs": [
    {
     "data": {
      "text/html": [
       "<div>\n",
       "<style scoped>\n",
       "    .dataframe tbody tr th:only-of-type {\n",
       "        vertical-align: middle;\n",
       "    }\n",
       "\n",
       "    .dataframe tbody tr th {\n",
       "        vertical-align: top;\n",
       "    }\n",
       "\n",
       "    .dataframe thead th {\n",
       "        text-align: right;\n",
       "    }\n",
       "</style>\n",
       "<table border=\"1\" class=\"dataframe\">\n",
       "  <thead>\n",
       "    <tr style=\"text-align: right;\">\n",
       "      <th></th>\n",
       "      <th>AppNumber</th>\n",
       "      <th>Institution</th>\n",
       "      <th>InstCity</th>\n",
       "      <th>InstState</th>\n",
       "      <th>InstPostalCode</th>\n",
       "      <th>InstCountry</th>\n",
       "      <th>CongressionalDistrict</th>\n",
       "      <th>Latitude</th>\n",
       "      <th>Longitude</th>\n",
       "      <th>YearAwarded</th>\n",
       "      <th>ProjectTitle</th>\n",
       "      <th>Program</th>\n",
       "      <th>Division</th>\n",
       "      <th>AwardOutright</th>\n",
       "      <th>AwardMatching</th>\n",
       "      <th>ProjectDesc</th>\n",
       "      <th>ToSupport</th>\n",
       "      <th>Participants</th>\n",
       "      <th>Disciplines</th>\n",
       "      <th>geoquery</th>\n",
       "    </tr>\n",
       "  </thead>\n",
       "  <tbody>\n",
       "    <tr>\n",
       "      <th>168</th>\n",
       "      <td>FA-10157-68</td>\n",
       "      <td>None</td>\n",
       "      <td>None</td>\n",
       "      <td>NY</td>\n",
       "      <td>None</td>\n",
       "      <td>USA</td>\n",
       "      <td>0</td>\n",
       "      <td>None</td>\n",
       "      <td>None</td>\n",
       "      <td>1967</td>\n",
       "      <td>Title not available</td>\n",
       "      <td>Fellowships for University Teachers</td>\n",
       "      <td>Research Programs</td>\n",
       "      <td>15520.0</td>\n",
       "      <td>0.0</td>\n",
       "      <td>No description</td>\n",
       "      <td>No to support statement</td>\n",
       "      <td>NaN</td>\n",
       "      <td>U.S. History</td>\n",
       "      <td>NaN</td>\n",
       "    </tr>\n",
       "  </tbody>\n",
       "</table>\n",
       "</div>"
      ],
      "text/plain": [
       "       AppNumber Institution InstCity InstState InstPostalCode InstCountry  \\\n",
       "168  FA-10157-68        None     None        NY           None         USA   \n",
       "\n",
       "     CongressionalDistrict Latitude Longitude  YearAwarded  \\\n",
       "168                      0     None      None         1967   \n",
       "\n",
       "            ProjectTitle                              Program  \\\n",
       "168  Title not available  Fellowships for University Teachers   \n",
       "\n",
       "              Division  AwardOutright  AwardMatching     ProjectDesc  \\\n",
       "168  Research Programs        15520.0            0.0  No description   \n",
       "\n",
       "                   ToSupport Participants   Disciplines geoquery  \n",
       "168  No to support statement          NaN  U.S. History      NaN  "
      ]
     },
     "execution_count": 20,
     "metadata": {},
     "output_type": "execute_result"
    }
   ],
   "source": [
    "# create a geoquery string, which will allow to at least map the city\n",
    "mappable_grant_info['geoquery'] = mappable_grant_info['InstCity'] + ' ' + mappable_grant_info['InstState']\n",
    "\n",
    "mappable_grant_info[mappable_grant_info['geoquery'].isnull()]"
   ]
  },
  {
   "cell_type": "markdown",
   "metadata": {},
   "source": [
    "Now there's only one left that lacks enough information. To check, look at that grant:"
   ]
  },
  {
   "cell_type": "code",
   "execution_count": 21,
   "metadata": {},
   "outputs": [
    {
     "data": {
      "text/plain": [
       "AppNumber                                        FA-10157-68\n",
       "Institution                                             None\n",
       "InstCity                                                None\n",
       "InstState                                                 NY\n",
       "InstPostalCode                                          None\n",
       "InstCountry                                              USA\n",
       "CongressionalDistrict                                      0\n",
       "Latitude                                                None\n",
       "Longitude                                               None\n",
       "YearAwarded                                             1967\n",
       "ProjectTitle                             Title not available\n",
       "Program                  Fellowships for University Teachers\n",
       "Division                                   Research Programs\n",
       "AwardOutright                                          15520\n",
       "AwardMatching                                              0\n",
       "ProjectDesc                                   No description\n",
       "ToSupport                            No to support statement\n",
       "Participants                                             NaN\n",
       "Disciplines                                     U.S. History\n",
       "geoquery                                                 NaN\n",
       "Name: 168, dtype: object"
      ]
     },
     "execution_count": 21,
     "metadata": {},
     "output_type": "execute_result"
    }
   ],
   "source": [
    "mappable_grant_info.loc[168, :]"
   ]
  },
  {
   "cell_type": "markdown",
   "metadata": {},
   "source": [
    "There is just not enough information here - the record does not include information about the city or institution that received this award, so remove that one, too."
   ]
  },
  {
   "cell_type": "code",
   "execution_count": 22,
   "metadata": {},
   "outputs": [
    {
     "name": "stdout",
     "output_type": "stream",
     "text": [
      "<class 'pandas.core.frame.DataFrame'>\n",
      "Int64Index: 997 entries, 0 to 1009\n",
      "Data columns (total 20 columns):\n",
      " #   Column                 Non-Null Count  Dtype  \n",
      "---  ------                 --------------  -----  \n",
      " 0   AppNumber              997 non-null    object \n",
      " 1   Institution            970 non-null    object \n",
      " 2   InstCity               997 non-null    object \n",
      " 3   InstState              997 non-null    object \n",
      " 4   InstPostalCode         970 non-null    object \n",
      " 5   InstCountry            990 non-null    object \n",
      " 6   CongressionalDistrict  997 non-null    int64  \n",
      " 7   Latitude               920 non-null    object \n",
      " 8   Longitude              920 non-null    object \n",
      " 9   YearAwarded            997 non-null    int64  \n",
      " 10  ProjectTitle           997 non-null    object \n",
      " 11  Program                997 non-null    object \n",
      " 12  Division               997 non-null    object \n",
      " 13  AwardOutright          997 non-null    float64\n",
      " 14  AwardMatching          997 non-null    float64\n",
      " 15  ProjectDesc            997 non-null    object \n",
      " 16  ToSupport              997 non-null    object \n",
      " 17  Participants           955 non-null    object \n",
      " 18  Disciplines            997 non-null    object \n",
      " 19  geoquery               997 non-null    object \n",
      "dtypes: float64(2), int64(2), object(16)\n",
      "memory usage: 163.6+ KB\n"
     ]
    }
   ],
   "source": [
    "mappable_grant_info = mappable_grant_info.drop([168])\n",
    "\n",
    "mappable_grant_info.info()"
   ]
  },
  {
   "cell_type": "markdown",
   "metadata": {},
   "source": [
    "### Geocode grants missing location coordinates\n",
    "\n",
    "For the remaining 77 grants without location information, try to geocode by city and state information."
   ]
  },
  {
   "cell_type": "code",
   "execution_count": 23,
   "metadata": {},
   "outputs": [
    {
     "name": "stdout",
     "output_type": "stream",
     "text": [
      "<class 'pandas.core.frame.DataFrame'>\n",
      "Int64Index: 77 entries, 24 to 1009\n",
      "Data columns (total 6 columns):\n",
      " #   Column     Non-Null Count  Dtype \n",
      "---  ------     --------------  ----- \n",
      " 0   AppNumber  77 non-null     object\n",
      " 1   InstCity   77 non-null     object\n",
      " 2   InstState  77 non-null     object\n",
      " 3   Latitude   0 non-null      object\n",
      " 4   Longitude  0 non-null      object\n",
      " 5   geoquery   77 non-null     object\n",
      "dtypes: object(6)\n",
      "memory usage: 4.2+ KB\n"
     ]
    }
   ],
   "source": [
    "# create a subset of the information for geoquerying\n",
    "geoQuerySet = mappable_grant_info.loc[:, ['AppNumber','InstCity','InstState','Latitude','Longitude','geoquery']]\n",
    "\n",
    "#pull out the entries without location coordinates\n",
    "geoQuerySet = geoQuerySet[geoQuerySet['Latitude'].isnull()]\n",
    "\n",
    "geoQuerySet.info()"
   ]
  },
  {
   "cell_type": "code",
   "execution_count": 24,
   "metadata": {},
   "outputs": [],
   "source": [
    "# set up geolocator\n",
    "# increase timeout to reduce errors \n",
    "geolocator = Nominatim(user_agent='neh-grant-points', timeout=10)\n",
    "\n",
    "# limit to comply with rate limiting requirements\n",
    "geocode = RateLimiter(geolocator.geocode, min_delay_seconds=1)\n",
    "\n",
    "# initiate geolocation for the 77 grants\n",
    "geoQuerySet['location'] = geoQuerySet['geoquery'].apply(geocode)"
   ]
  },
  {
   "cell_type": "code",
   "execution_count": 25,
   "metadata": {},
   "outputs": [
    {
     "name": "stdout",
     "output_type": "stream",
     "text": [
      "<class 'pandas.core.frame.DataFrame'>\n",
      "Int64Index: 77 entries, 24 to 1009\n",
      "Data columns (total 7 columns):\n",
      " #   Column     Non-Null Count  Dtype \n",
      "---  ------     --------------  ----- \n",
      " 0   AppNumber  77 non-null     object\n",
      " 1   InstCity   77 non-null     object\n",
      " 2   InstState  77 non-null     object\n",
      " 3   Latitude   0 non-null      object\n",
      " 4   Longitude  0 non-null      object\n",
      " 5   geoquery   77 non-null     object\n",
      " 6   location   76 non-null     object\n",
      "dtypes: object(7)\n",
      "memory usage: 4.8+ KB\n"
     ]
    }
   ],
   "source": [
    "geoQuerySet.info()"
   ]
  },
  {
   "cell_type": "markdown",
   "metadata": {},
   "source": [
    "All but one of the `geoquery` requests returned a location value. To see what's missing, check for the empty values using `isnull()`:"
   ]
  },
  {
   "cell_type": "code",
   "execution_count": 26,
   "metadata": {},
   "outputs": [
    {
     "data": {
      "text/html": [
       "<div>\n",
       "<style scoped>\n",
       "    .dataframe tbody tr th:only-of-type {\n",
       "        vertical-align: middle;\n",
       "    }\n",
       "\n",
       "    .dataframe tbody tr th {\n",
       "        vertical-align: top;\n",
       "    }\n",
       "\n",
       "    .dataframe thead th {\n",
       "        text-align: right;\n",
       "    }\n",
       "</style>\n",
       "<table border=\"1\" class=\"dataframe\">\n",
       "  <thead>\n",
       "    <tr style=\"text-align: right;\">\n",
       "      <th></th>\n",
       "      <th>AppNumber</th>\n",
       "      <th>InstCity</th>\n",
       "      <th>InstState</th>\n",
       "      <th>Latitude</th>\n",
       "      <th>Longitude</th>\n",
       "      <th>geoquery</th>\n",
       "      <th>location</th>\n",
       "    </tr>\n",
       "  </thead>\n",
       "  <tbody>\n",
       "    <tr>\n",
       "      <th>998</th>\n",
       "      <td>RP-10003-68</td>\n",
       "      <td>Charlottsvlle</td>\n",
       "      <td>VA</td>\n",
       "      <td>None</td>\n",
       "      <td>None</td>\n",
       "      <td>Charlottsvlle VA</td>\n",
       "      <td>None</td>\n",
       "    </tr>\n",
       "  </tbody>\n",
       "</table>\n",
       "</div>"
      ],
      "text/plain": [
       "       AppNumber       InstCity InstState Latitude Longitude  \\\n",
       "998  RP-10003-68  Charlottsvlle        VA     None      None   \n",
       "\n",
       "             geoquery location  \n",
       "998  Charlottsvlle VA     None  "
      ]
     },
     "execution_count": 26,
     "metadata": {},
     "output_type": "execute_result"
    }
   ],
   "source": [
    "geoQuerySet[geoQuerySet['location'].isnull()]"
   ]
  },
  {
   "cell_type": "markdown",
   "metadata": {},
   "source": [
    "Looks like that one has a typo! _I adapted the fix & replace process that @cduvallet outlined (link to full process at the end of this post)._"
   ]
  },
  {
   "cell_type": "code",
   "execution_count": 27,
   "metadata": {},
   "outputs": [
    {
     "name": "stdout",
     "output_type": "stream",
     "text": [
      "{'Charlottsvlle VA': Location(The V, 201-213, 15th Street Northwest, Venable, Starr Hill, Charlottesville, Virginia, 22903, United States, (38.0360726, -78.49973472559668, 0.0))}\n"
     ]
    }
   ],
   "source": [
    "fixgeolocate = {\n",
    "    'Charlottsvlle VA' : 'Charlottesville VA'\n",
    "}\n",
    "\n",
    "new_locations = {}\n",
    "for key, val in fixgeolocate.items():\n",
    "    loc = geocode(val)\n",
    "    new_locations[key] = loc\n",
    "    sleep(1)\n",
    "print(new_locations)"
   ]
  },
  {
   "cell_type": "markdown",
   "metadata": {},
   "source": [
    "While here, I will also correct the typo in the dataset."
   ]
  },
  {
   "cell_type": "code",
   "execution_count": 28,
   "metadata": {},
   "outputs": [],
   "source": [
    "# update to correct spelling of Charlottesville in cleaned_grants_for_mappable = mappable_grant_info i=998\n",
    "mappable_grant_info = mappable_grant_info.replace('Charlottsvlle','Charlottesville')"
   ]
  },
  {
   "cell_type": "code",
   "execution_count": 29,
   "metadata": {},
   "outputs": [],
   "source": [
    "# update the geoquery set \n",
    "# get indices of rows with no location\n",
    "null_locs = geoQuerySet[geoQuerySet['location'].isnull()].index\n",
    "\n",
    "# sub in the new_locs\n",
    "geoQuerySet.loc[null_locs, 'location'] = geoQuerySet.loc[null_locs, 'geoquery'].map(new_locations)"
   ]
  },
  {
   "cell_type": "code",
   "execution_count": 30,
   "metadata": {},
   "outputs": [
    {
     "data": {
      "text/html": [
       "<div>\n",
       "<style scoped>\n",
       "    .dataframe tbody tr th:only-of-type {\n",
       "        vertical-align: middle;\n",
       "    }\n",
       "\n",
       "    .dataframe tbody tr th {\n",
       "        vertical-align: top;\n",
       "    }\n",
       "\n",
       "    .dataframe thead th {\n",
       "        text-align: right;\n",
       "    }\n",
       "</style>\n",
       "<table border=\"1\" class=\"dataframe\">\n",
       "  <thead>\n",
       "    <tr style=\"text-align: right;\">\n",
       "      <th></th>\n",
       "      <th>AppNumber</th>\n",
       "      <th>InstCity</th>\n",
       "      <th>InstState</th>\n",
       "      <th>Latitude</th>\n",
       "      <th>Longitude</th>\n",
       "      <th>geoquery</th>\n",
       "      <th>location</th>\n",
       "    </tr>\n",
       "  </thead>\n",
       "  <tbody>\n",
       "    <tr>\n",
       "      <th>24</th>\n",
       "      <td>AO-10025-69</td>\n",
       "      <td>Westport</td>\n",
       "      <td>CT</td>\n",
       "      <td>None</td>\n",
       "      <td>None</td>\n",
       "      <td>Westport CT</td>\n",
       "      <td>(Westport Court, Westport, Columbia County, Ge...</td>\n",
       "    </tr>\n",
       "    <tr>\n",
       "      <th>40</th>\n",
       "      <td>EH-10038-68</td>\n",
       "      <td>Evanston</td>\n",
       "      <td>IL</td>\n",
       "      <td>None</td>\n",
       "      <td>None</td>\n",
       "      <td>Evanston IL</td>\n",
       "      <td>(Evanston, Evanston Township, Cook County, Ill...</td>\n",
       "    </tr>\n",
       "    <tr>\n",
       "      <th>47</th>\n",
       "      <td>EH-10058-66</td>\n",
       "      <td>New York</td>\n",
       "      <td>NY</td>\n",
       "      <td>None</td>\n",
       "      <td>None</td>\n",
       "      <td>New York NY</td>\n",
       "      <td>(New York, United States, (40.7127281, -74.006...</td>\n",
       "    </tr>\n",
       "    <tr>\n",
       "      <th>51</th>\n",
       "      <td>EO-10001-67</td>\n",
       "      <td>Dover</td>\n",
       "      <td>DE</td>\n",
       "      <td>None</td>\n",
       "      <td>None</td>\n",
       "      <td>Dover DE</td>\n",
       "      <td>(Dover, Kent County, Delaware, United States, ...</td>\n",
       "    </tr>\n",
       "    <tr>\n",
       "      <th>61</th>\n",
       "      <td>EO-10051-68</td>\n",
       "      <td>University Park</td>\n",
       "      <td>PA</td>\n",
       "      <td>None</td>\n",
       "      <td>None</td>\n",
       "      <td>University Park PA</td>\n",
       "      <td>(University Park, College Township, Centre Cou...</td>\n",
       "    </tr>\n",
       "  </tbody>\n",
       "</table>\n",
       "</div>"
      ],
      "text/plain": [
       "      AppNumber         InstCity InstState Latitude Longitude  \\\n",
       "24  AO-10025-69         Westport        CT     None      None   \n",
       "40  EH-10038-68         Evanston        IL     None      None   \n",
       "47  EH-10058-66         New York        NY     None      None   \n",
       "51  EO-10001-67            Dover        DE     None      None   \n",
       "61  EO-10051-68  University Park        PA     None      None   \n",
       "\n",
       "              geoquery                                           location  \n",
       "24         Westport CT  (Westport Court, Westport, Columbia County, Ge...  \n",
       "40         Evanston IL  (Evanston, Evanston Township, Cook County, Ill...  \n",
       "47         New York NY  (New York, United States, (40.7127281, -74.006...  \n",
       "51            Dover DE  (Dover, Kent County, Delaware, United States, ...  \n",
       "61  University Park PA  (University Park, College Township, Centre Cou...  "
      ]
     },
     "execution_count": 30,
     "metadata": {},
     "output_type": "execute_result"
    }
   ],
   "source": [
    "geoQuerySet.head()"
   ]
  },
  {
   "cell_type": "markdown",
   "metadata": {},
   "source": [
    "Now we have all information to provide a coordinate location for those grants that didn't have the information. What remains is to pull the Lat & Lon information back into those columns."
   ]
  },
  {
   "cell_type": "code",
   "execution_count": 31,
   "metadata": {},
   "outputs": [
    {
     "data": {
      "text/html": [
       "<div>\n",
       "<style scoped>\n",
       "    .dataframe tbody tr th:only-of-type {\n",
       "        vertical-align: middle;\n",
       "    }\n",
       "\n",
       "    .dataframe tbody tr th {\n",
       "        vertical-align: top;\n",
       "    }\n",
       "\n",
       "    .dataframe thead th {\n",
       "        text-align: right;\n",
       "    }\n",
       "</style>\n",
       "<table border=\"1\" class=\"dataframe\">\n",
       "  <thead>\n",
       "    <tr style=\"text-align: right;\">\n",
       "      <th></th>\n",
       "      <th>AppNumber</th>\n",
       "      <th>InstCity</th>\n",
       "      <th>InstState</th>\n",
       "      <th>Latitude</th>\n",
       "      <th>Longitude</th>\n",
       "      <th>geoquery</th>\n",
       "      <th>location</th>\n",
       "    </tr>\n",
       "  </thead>\n",
       "  <tbody>\n",
       "    <tr>\n",
       "      <th>24</th>\n",
       "      <td>AO-10025-69</td>\n",
       "      <td>Westport</td>\n",
       "      <td>CT</td>\n",
       "      <td>33.554852</td>\n",
       "      <td>-82.066172</td>\n",
       "      <td>Westport CT</td>\n",
       "      <td>(Westport Court, Westport, Columbia County, Ge...</td>\n",
       "    </tr>\n",
       "    <tr>\n",
       "      <th>40</th>\n",
       "      <td>EH-10038-68</td>\n",
       "      <td>Evanston</td>\n",
       "      <td>IL</td>\n",
       "      <td>42.044739</td>\n",
       "      <td>-87.693046</td>\n",
       "      <td>Evanston IL</td>\n",
       "      <td>(Evanston, Evanston Township, Cook County, Ill...</td>\n",
       "    </tr>\n",
       "    <tr>\n",
       "      <th>47</th>\n",
       "      <td>EH-10058-66</td>\n",
       "      <td>New York</td>\n",
       "      <td>NY</td>\n",
       "      <td>40.712728</td>\n",
       "      <td>-74.006015</td>\n",
       "      <td>New York NY</td>\n",
       "      <td>(New York, United States, (40.7127281, -74.006...</td>\n",
       "    </tr>\n",
       "    <tr>\n",
       "      <th>51</th>\n",
       "      <td>EO-10001-67</td>\n",
       "      <td>Dover</td>\n",
       "      <td>DE</td>\n",
       "      <td>39.158168</td>\n",
       "      <td>-75.524368</td>\n",
       "      <td>Dover DE</td>\n",
       "      <td>(Dover, Kent County, Delaware, United States, ...</td>\n",
       "    </tr>\n",
       "    <tr>\n",
       "      <th>61</th>\n",
       "      <td>EO-10051-68</td>\n",
       "      <td>University Park</td>\n",
       "      <td>PA</td>\n",
       "      <td>40.808749</td>\n",
       "      <td>-77.858566</td>\n",
       "      <td>University Park PA</td>\n",
       "      <td>(University Park, College Township, Centre Cou...</td>\n",
       "    </tr>\n",
       "  </tbody>\n",
       "</table>\n",
       "</div>"
      ],
      "text/plain": [
       "      AppNumber         InstCity InstState   Latitude  Longitude  \\\n",
       "24  AO-10025-69         Westport        CT  33.554852 -82.066172   \n",
       "40  EH-10038-68         Evanston        IL  42.044739 -87.693046   \n",
       "47  EH-10058-66         New York        NY  40.712728 -74.006015   \n",
       "51  EO-10001-67            Dover        DE  39.158168 -75.524368   \n",
       "61  EO-10051-68  University Park        PA  40.808749 -77.858566   \n",
       "\n",
       "              geoquery                                           location  \n",
       "24         Westport CT  (Westport Court, Westport, Columbia County, Ge...  \n",
       "40         Evanston IL  (Evanston, Evanston Township, Cook County, Ill...  \n",
       "47         New York NY  (New York, United States, (40.7127281, -74.006...  \n",
       "51            Dover DE  (Dover, Kent County, Delaware, United States, ...  \n",
       "61  University Park PA  (University Park, College Township, Centre Cou...  "
      ]
     },
     "execution_count": 31,
     "metadata": {},
     "output_type": "execute_result"
    }
   ],
   "source": [
    "# pull the lats & lons from the locations - see \n",
    "geoQuerySet['Latitude'] = geoQuerySet['location'].apply(lambda x: x.latitude)\n",
    "geoQuerySet['Longitude'] = geoQuerySet['location'].apply(lambda x: x.longitude)\n",
    "\n",
    "geoQuerySet.head()"
   ]
  },
  {
   "cell_type": "code",
   "execution_count": 32,
   "metadata": {},
   "outputs": [
    {
     "name": "stdout",
     "output_type": "stream",
     "text": [
      "<class 'pandas.core.frame.DataFrame'>\n",
      "Int64Index: 77 entries, 24 to 1009\n",
      "Data columns (total 7 columns):\n",
      " #   Column     Non-Null Count  Dtype  \n",
      "---  ------     --------------  -----  \n",
      " 0   AppNumber  77 non-null     object \n",
      " 1   InstCity   77 non-null     object \n",
      " 2   InstState  77 non-null     object \n",
      " 3   Latitude   77 non-null     float64\n",
      " 4   Longitude  77 non-null     float64\n",
      " 5   geoquery   77 non-null     object \n",
      " 6   location   77 non-null     object \n",
      "dtypes: float64(2), object(5)\n",
      "memory usage: 7.3+ KB\n"
     ]
    }
   ],
   "source": [
    "geoQuerySet.info()"
   ]
  },
  {
   "cell_type": "markdown",
   "metadata": {},
   "source": [
    "### Merge the data\n",
    "\n",
    "I can see using `info()` that the main dataframe still lacks the latitude and longitude information for the newly points geocoded points. So now, let's merge the locations back into the dataframe for mapping (`cleaned_grants_for_mappable`)."
   ]
  },
  {
   "cell_type": "code",
   "execution_count": 33,
   "metadata": {},
   "outputs": [],
   "source": [
    "# create a clean dataframe, just in case something happens to remove data\n",
    "cleaned_grants_for_mappable = mappable_grant_info"
   ]
  },
  {
   "cell_type": "code",
   "execution_count": 34,
   "metadata": {},
   "outputs": [
    {
     "name": "stdout",
     "output_type": "stream",
     "text": [
      "<class 'pandas.core.frame.DataFrame'>\n",
      "Int64Index: 997 entries, 0 to 1009\n",
      "Data columns (total 20 columns):\n",
      " #   Column                 Non-Null Count  Dtype  \n",
      "---  ------                 --------------  -----  \n",
      " 0   AppNumber              997 non-null    object \n",
      " 1   Institution            970 non-null    object \n",
      " 2   InstCity               997 non-null    object \n",
      " 3   InstState              997 non-null    object \n",
      " 4   InstPostalCode         970 non-null    object \n",
      " 5   InstCountry            990 non-null    object \n",
      " 6   CongressionalDistrict  997 non-null    int64  \n",
      " 7   Latitude               920 non-null    object \n",
      " 8   Longitude              920 non-null    object \n",
      " 9   YearAwarded            997 non-null    int64  \n",
      " 10  ProjectTitle           997 non-null    object \n",
      " 11  Program                997 non-null    object \n",
      " 12  Division               997 non-null    object \n",
      " 13  AwardOutright          997 non-null    float64\n",
      " 14  AwardMatching          997 non-null    float64\n",
      " 15  ProjectDesc            997 non-null    object \n",
      " 16  ToSupport              997 non-null    object \n",
      " 17  Participants           955 non-null    object \n",
      " 18  Disciplines            997 non-null    object \n",
      " 19  geoquery               997 non-null    object \n",
      "dtypes: float64(2), int64(2), object(16)\n",
      "memory usage: 163.6+ KB\n"
     ]
    }
   ],
   "source": [
    "cleaned_grants_for_mappable.info()"
   ]
  },
  {
   "cell_type": "code",
   "execution_count": 35,
   "metadata": {},
   "outputs": [
    {
     "data": {
      "text/plain": [
       "Int64Index([  24,   40,   47,   51,   61,   74,   83,  103,  106,  107,  110,\n",
       "             111,  117,  120,  123,  124,  148,  151,  154,  174,  188,  198,\n",
       "             209,  341,  359,  378,  386,  387,  388,  398,  402,  412,  430,\n",
       "             437,  477,  482,  483,  484,  511,  522,  553,  597,  608,  624,\n",
       "             637,  669,  685,  689,  702,  708,  746,  750,  779,  791,  795,\n",
       "             802,  855,  856,  857,  859,  860,  861,  866,  871,  872,  885,\n",
       "             890,  902,  927,  936,  938,  940,  961,  970,  989,  998, 1009],\n",
       "           dtype='int64')"
      ]
     },
     "execution_count": 35,
     "metadata": {},
     "output_type": "execute_result"
    }
   ],
   "source": [
    "# create a list of the indices for matching rows between the data frames\n",
    "geoInfotoReplaceIndices = geoQuerySet.loc[:,'AppNumber'].index\n",
    "geoInfotoReplaceIndices"
   ]
  },
  {
   "cell_type": "code",
   "execution_count": 36,
   "metadata": {},
   "outputs": [],
   "source": [
    "# use the row indexes to assign data from the geoQuerySet back to the cleaned map info for Latitude\n",
    "cleaned_grants_for_mappable.loc[geoInfotoReplaceIndices,['Latitude']] = geoQuerySet.loc[geoInfotoReplaceIndices,['Latitude']]\n",
    "\n",
    "# use the row indexes to assign data from the geoQuerySet back to the cleaned map info for Longitude\n",
    "cleaned_grants_for_mappable.loc[geoInfotoReplaceIndices,['Longitude']] = geoQuerySet.loc[geoInfotoReplaceIndices,['Longitude']]"
   ]
  },
  {
   "cell_type": "code",
   "execution_count": 37,
   "metadata": {},
   "outputs": [
    {
     "name": "stdout",
     "output_type": "stream",
     "text": [
      "<class 'pandas.core.frame.DataFrame'>\n",
      "Int64Index: 997 entries, 0 to 1009\n",
      "Data columns (total 20 columns):\n",
      " #   Column                 Non-Null Count  Dtype  \n",
      "---  ------                 --------------  -----  \n",
      " 0   AppNumber              997 non-null    object \n",
      " 1   Institution            970 non-null    object \n",
      " 2   InstCity               997 non-null    object \n",
      " 3   InstState              997 non-null    object \n",
      " 4   InstPostalCode         970 non-null    object \n",
      " 5   InstCountry            990 non-null    object \n",
      " 6   CongressionalDistrict  997 non-null    int64  \n",
      " 7   Latitude               997 non-null    object \n",
      " 8   Longitude              997 non-null    object \n",
      " 9   YearAwarded            997 non-null    int64  \n",
      " 10  ProjectTitle           997 non-null    object \n",
      " 11  Program                997 non-null    object \n",
      " 12  Division               997 non-null    object \n",
      " 13  AwardOutright          997 non-null    float64\n",
      " 14  AwardMatching          997 non-null    float64\n",
      " 15  ProjectDesc            997 non-null    object \n",
      " 16  ToSupport              997 non-null    object \n",
      " 17  Participants           955 non-null    object \n",
      " 18  Disciplines            997 non-null    object \n",
      " 19  geoquery               997 non-null    object \n",
      "dtypes: float64(2), int64(2), object(16)\n",
      "memory usage: 203.6+ KB\n"
     ]
    }
   ],
   "source": [
    "cleaned_grants_for_mappable.info()"
   ]
  },
  {
   "cell_type": "code",
   "execution_count": 38,
   "metadata": {},
   "outputs": [],
   "source": [
    "# reassign our complete information to the mappable_grant_info dataframe\n",
    "mappable_grant_info = cleaned_grants_for_mappable"
   ]
  },
  {
   "cell_type": "markdown",
   "metadata": {},
   "source": [
    "At this point, there are two 'complete' datasets: `cleaned_grants_for_mappable` & `mappable_grant_info`. Below, `mappable_grant_info` is used the main set. "
   ]
  },
  {
   "cell_type": "markdown",
   "metadata": {},
   "source": [
    "### Add coordinates and map\n",
    "\n",
    "Using the filled in latitude and longitude, we can now add in coordinate information to prepare to map each grant as a point on a map."
   ]
  },
  {
   "cell_type": "code",
   "execution_count": 39,
   "metadata": {},
   "outputs": [
    {
     "data": {
      "text/plain": [
       "AppNumber                 object\n",
       "Institution               object\n",
       "InstCity                  object\n",
       "InstState                 object\n",
       "InstPostalCode            object\n",
       "InstCountry               object\n",
       "CongressionalDistrict      int64\n",
       "Latitude                 float64\n",
       "Longitude                float64\n",
       "YearAwarded                int64\n",
       "ProjectTitle              object\n",
       "Program                   object\n",
       "Division                  object\n",
       "AwardOutright            float64\n",
       "AwardMatching            float64\n",
       "ProjectDesc               object\n",
       "ToSupport                 object\n",
       "Participants              object\n",
       "Disciplines               object\n",
       "geoquery                  object\n",
       "dtype: object"
      ]
     },
     "execution_count": 39,
     "metadata": {},
     "output_type": "execute_result"
    }
   ],
   "source": [
    "# convert lat & lon into numeric values\n",
    "mappable_grant_info.astype({'Latitude':'float64','Longitude':'float64'}).dtypes"
   ]
  },
  {
   "cell_type": "code",
   "execution_count": 40,
   "metadata": {},
   "outputs": [
    {
     "data": {
      "text/html": [
       "<div>\n",
       "<style scoped>\n",
       "    .dataframe tbody tr th:only-of-type {\n",
       "        vertical-align: middle;\n",
       "    }\n",
       "\n",
       "    .dataframe tbody tr th {\n",
       "        vertical-align: top;\n",
       "    }\n",
       "\n",
       "    .dataframe thead th {\n",
       "        text-align: right;\n",
       "    }\n",
       "</style>\n",
       "<table border=\"1\" class=\"dataframe\">\n",
       "  <thead>\n",
       "    <tr style=\"text-align: right;\">\n",
       "      <th></th>\n",
       "      <th>AppNumber</th>\n",
       "      <th>Institution</th>\n",
       "      <th>InstCity</th>\n",
       "      <th>InstState</th>\n",
       "      <th>InstPostalCode</th>\n",
       "      <th>InstCountry</th>\n",
       "      <th>CongressionalDistrict</th>\n",
       "      <th>Latitude</th>\n",
       "      <th>Longitude</th>\n",
       "      <th>YearAwarded</th>\n",
       "      <th>...</th>\n",
       "      <th>Program</th>\n",
       "      <th>Division</th>\n",
       "      <th>AwardOutright</th>\n",
       "      <th>AwardMatching</th>\n",
       "      <th>ProjectDesc</th>\n",
       "      <th>ToSupport</th>\n",
       "      <th>Participants</th>\n",
       "      <th>Disciplines</th>\n",
       "      <th>geoquery</th>\n",
       "      <th>coordinates</th>\n",
       "    </tr>\n",
       "  </thead>\n",
       "  <tbody>\n",
       "    <tr>\n",
       "      <th>1005</th>\n",
       "      <td>RX-10010-69</td>\n",
       "      <td>American Council of Learned Societies</td>\n",
       "      <td>New York</td>\n",
       "      <td>NY</td>\n",
       "      <td>10017-6706</td>\n",
       "      <td>USA</td>\n",
       "      <td>12</td>\n",
       "      <td>40.74955</td>\n",
       "      <td>-73.97462</td>\n",
       "      <td>1969</td>\n",
       "      <td>...</td>\n",
       "      <td>Conferences</td>\n",
       "      <td>Research Programs</td>\n",
       "      <td>25000.0</td>\n",
       "      <td>0.0</td>\n",
       "      <td>No description</td>\n",
       "      <td>No to support statement</td>\n",
       "      <td>Gordon Turner [Project Director]</td>\n",
       "      <td>Interdisciplinary Studies, General</td>\n",
       "      <td>New York NY</td>\n",
       "      <td>[-73.97462, 40.74955]</td>\n",
       "    </tr>\n",
       "    <tr>\n",
       "      <th>1006</th>\n",
       "      <td>EO-10125</td>\n",
       "      <td>Salk Institute for Biological Studies</td>\n",
       "      <td>La Jolla</td>\n",
       "      <td>CA</td>\n",
       "      <td>92037-1002</td>\n",
       "      <td>USA</td>\n",
       "      <td>49</td>\n",
       "      <td>32.88647</td>\n",
       "      <td>-117.24392</td>\n",
       "      <td>1969</td>\n",
       "      <td>...</td>\n",
       "      <td>Institutional Planning and Development</td>\n",
       "      <td>Education Programs</td>\n",
       "      <td>7434.0</td>\n",
       "      <td>0.0</td>\n",
       "      <td>To teach a course based on American texts and ...</td>\n",
       "      <td>No to support statement</td>\n",
       "      <td>Christine Tracy [Project Director]</td>\n",
       "      <td>History and Philosophy of Science, Technology,...</td>\n",
       "      <td>La Jolla CA</td>\n",
       "      <td>[-117.24392, 32.88647]</td>\n",
       "    </tr>\n",
       "    <tr>\n",
       "      <th>1007</th>\n",
       "      <td>EO-10225</td>\n",
       "      <td>Manhattanville College</td>\n",
       "      <td>Purchase</td>\n",
       "      <td>NY</td>\n",
       "      <td>10577-2132</td>\n",
       "      <td>USA</td>\n",
       "      <td>17</td>\n",
       "      <td>41.02476</td>\n",
       "      <td>-73.71567</td>\n",
       "      <td>1969</td>\n",
       "      <td>...</td>\n",
       "      <td>Institutional Planning and Development</td>\n",
       "      <td>Education Programs</td>\n",
       "      <td>28320.0</td>\n",
       "      <td>0.0</td>\n",
       "      <td>No description</td>\n",
       "      <td>No to support statement</td>\n",
       "      <td>Marcus Lawson [Project Director]</td>\n",
       "      <td>Interdisciplinary Studies, General</td>\n",
       "      <td>Purchase NY</td>\n",
       "      <td>[-73.71567, 41.02476]</td>\n",
       "    </tr>\n",
       "    <tr>\n",
       "      <th>1008</th>\n",
       "      <td>EO-10231</td>\n",
       "      <td>Louisiana Endowment for the Humanities</td>\n",
       "      <td>New Orleans</td>\n",
       "      <td>LA</td>\n",
       "      <td>70113-1027</td>\n",
       "      <td>USA</td>\n",
       "      <td>2</td>\n",
       "      <td>29.94888</td>\n",
       "      <td>-90.07392</td>\n",
       "      <td>1969</td>\n",
       "      <td>...</td>\n",
       "      <td>Institutional Planning and Development</td>\n",
       "      <td>Education Programs</td>\n",
       "      <td>10000.0</td>\n",
       "      <td>0.0</td>\n",
       "      <td>This is one of seven \"summer workshops on Negr...</td>\n",
       "      <td>No to support statement</td>\n",
       "      <td>Elton Harrison [Project Director]</td>\n",
       "      <td>Interdisciplinary Studies, General</td>\n",
       "      <td>New Orleans LA</td>\n",
       "      <td>[-90.07392, 29.94888]</td>\n",
       "    </tr>\n",
       "    <tr>\n",
       "      <th>1009</th>\n",
       "      <td>RO-10389</td>\n",
       "      <td>California State University, Long Beach</td>\n",
       "      <td>Long Beach</td>\n",
       "      <td>CA</td>\n",
       "      <td>90840-0004</td>\n",
       "      <td>USA</td>\n",
       "      <td>48</td>\n",
       "      <td>33.769</td>\n",
       "      <td>-118.192</td>\n",
       "      <td>1969</td>\n",
       "      <td>...</td>\n",
       "      <td>Basic Research</td>\n",
       "      <td>Research Programs</td>\n",
       "      <td>9990.0</td>\n",
       "      <td>0.0</td>\n",
       "      <td>No description</td>\n",
       "      <td>No to support statement</td>\n",
       "      <td>Nizan Shaked [Project Director]</td>\n",
       "      <td>Social Sciences, General</td>\n",
       "      <td>Long Beach CA</td>\n",
       "      <td>[-118.191604, 33.7690164]</td>\n",
       "    </tr>\n",
       "  </tbody>\n",
       "</table>\n",
       "<p>5 rows × 21 columns</p>\n",
       "</div>"
      ],
      "text/plain": [
       "        AppNumber                              Institution     InstCity  \\\n",
       "1005  RX-10010-69    American Council of Learned Societies     New York   \n",
       "1006     EO-10125    Salk Institute for Biological Studies     La Jolla   \n",
       "1007     EO-10225                   Manhattanville College     Purchase   \n",
       "1008     EO-10231   Louisiana Endowment for the Humanities  New Orleans   \n",
       "1009     RO-10389  California State University, Long Beach   Long Beach   \n",
       "\n",
       "     InstState InstPostalCode InstCountry  CongressionalDistrict  Latitude  \\\n",
       "1005        NY     10017-6706         USA                     12  40.74955   \n",
       "1006        CA     92037-1002         USA                     49  32.88647   \n",
       "1007        NY     10577-2132         USA                     17  41.02476   \n",
       "1008        LA     70113-1027         USA                      2  29.94888   \n",
       "1009        CA     90840-0004         USA                     48    33.769   \n",
       "\n",
       "       Longitude  YearAwarded  ...                                 Program  \\\n",
       "1005   -73.97462         1969  ...                             Conferences   \n",
       "1006  -117.24392         1969  ...  Institutional Planning and Development   \n",
       "1007   -73.71567         1969  ...  Institutional Planning and Development   \n",
       "1008   -90.07392         1969  ...  Institutional Planning and Development   \n",
       "1009    -118.192         1969  ...                          Basic Research   \n",
       "\n",
       "                Division AwardOutright  AwardMatching  \\\n",
       "1005   Research Programs       25000.0            0.0   \n",
       "1006  Education Programs        7434.0            0.0   \n",
       "1007  Education Programs       28320.0            0.0   \n",
       "1008  Education Programs       10000.0            0.0   \n",
       "1009   Research Programs        9990.0            0.0   \n",
       "\n",
       "                                            ProjectDesc  \\\n",
       "1005                                     No description   \n",
       "1006  To teach a course based on American texts and ...   \n",
       "1007                                     No description   \n",
       "1008  This is one of seven \"summer workshops on Negr...   \n",
       "1009                                     No description   \n",
       "\n",
       "                    ToSupport                        Participants  \\\n",
       "1005  No to support statement    Gordon Turner [Project Director]   \n",
       "1006  No to support statement  Christine Tracy [Project Director]   \n",
       "1007  No to support statement    Marcus Lawson [Project Director]   \n",
       "1008  No to support statement   Elton Harrison [Project Director]   \n",
       "1009  No to support statement     Nizan Shaked [Project Director]   \n",
       "\n",
       "                                            Disciplines        geoquery  \\\n",
       "1005                 Interdisciplinary Studies, General     New York NY   \n",
       "1006  History and Philosophy of Science, Technology,...     La Jolla CA   \n",
       "1007                 Interdisciplinary Studies, General     Purchase NY   \n",
       "1008                 Interdisciplinary Studies, General  New Orleans LA   \n",
       "1009                           Social Sciences, General   Long Beach CA   \n",
       "\n",
       "                    coordinates  \n",
       "1005      [-73.97462, 40.74955]  \n",
       "1006     [-117.24392, 32.88647]  \n",
       "1007      [-73.71567, 41.02476]  \n",
       "1008      [-90.07392, 29.94888]  \n",
       "1009  [-118.191604, 33.7690164]  \n",
       "\n",
       "[5 rows x 21 columns]"
      ]
     },
     "execution_count": 40,
     "metadata": {},
     "output_type": "execute_result"
    }
   ],
   "source": [
    "# combine latitute and longitude to create coordinate information for mapping\n",
    "mappable_grant_info['coordinates'] = mappable_grant_info[['Longitude','Latitude']].values.tolist()\n",
    "\n",
    "mappable_grant_info.tail()"
   ]
  },
  {
   "cell_type": "code",
   "execution_count": 41,
   "metadata": {},
   "outputs": [],
   "source": [
    "# create shapely geoPoints for a geometry column\n",
    "mappable_grant_info['geometry'] = gpd.points_from_xy(mappable_grant_info['Longitude'],mappable_grant_info['Latitude'])"
   ]
  },
  {
   "cell_type": "code",
   "execution_count": 42,
   "metadata": {},
   "outputs": [
    {
     "name": "stdout",
     "output_type": "stream",
     "text": [
      "<class 'pandas.core.frame.DataFrame'>\n",
      "Int64Index: 997 entries, 0 to 1009\n",
      "Data columns (total 22 columns):\n",
      " #   Column                 Non-Null Count  Dtype   \n",
      "---  ------                 --------------  -----   \n",
      " 0   AppNumber              997 non-null    object  \n",
      " 1   Institution            970 non-null    object  \n",
      " 2   InstCity               997 non-null    object  \n",
      " 3   InstState              997 non-null    object  \n",
      " 4   InstPostalCode         970 non-null    object  \n",
      " 5   InstCountry            990 non-null    object  \n",
      " 6   CongressionalDistrict  997 non-null    int64   \n",
      " 7   Latitude               997 non-null    object  \n",
      " 8   Longitude              997 non-null    object  \n",
      " 9   YearAwarded            997 non-null    int64   \n",
      " 10  ProjectTitle           997 non-null    object  \n",
      " 11  Program                997 non-null    object  \n",
      " 12  Division               997 non-null    object  \n",
      " 13  AwardOutright          997 non-null    float64 \n",
      " 14  AwardMatching          997 non-null    float64 \n",
      " 15  ProjectDesc            997 non-null    object  \n",
      " 16  ToSupport              997 non-null    object  \n",
      " 17  Participants           955 non-null    object  \n",
      " 18  Disciplines            997 non-null    object  \n",
      " 19  geoquery               997 non-null    object  \n",
      " 20  coordinates            997 non-null    object  \n",
      " 21  geometry               997 non-null    geometry\n",
      "dtypes: float64(2), geometry(1), int64(2), object(17)\n",
      "memory usage: 219.1+ KB\n"
     ]
    }
   ],
   "source": [
    "mappable_grant_info.info()"
   ]
  },
  {
   "cell_type": "code",
   "execution_count": 44,
   "metadata": {},
   "outputs": [
    {
     "data": {
      "text/plain": [
       "<bound method NDFrame.describe of 0       POINT (-122.26813 37.87029)\n",
       "1       POINT (-117.70701 34.10373)\n",
       "2       POINT (-117.33113 33.97561)\n",
       "3        POINT (-71.09048 42.33950)\n",
       "4        POINT (-75.19276 39.95298)\n",
       "                   ...             \n",
       "1005     POINT (-73.97462 40.74955)\n",
       "1006    POINT (-117.24392 32.88647)\n",
       "1007     POINT (-73.71567 41.02476)\n",
       "1008     POINT (-90.07392 29.94888)\n",
       "1009    POINT (-118.19160 33.76902)\n",
       "Name: geometry, Length: 997, dtype: geometry>"
      ]
     },
     "execution_count": 44,
     "metadata": {},
     "output_type": "execute_result"
    }
   ],
   "source": [
    "mappable_grant_info['geometry'].describe"
   ]
  },
  {
   "cell_type": "markdown",
   "metadata": {},
   "source": [
    "The geometry column now contains POINTs, a special datatype that will be necessary for the geospatial dataset.\n",
    "\n",
    "For the final steps of cleaning and transforming this data to a geospatial dataset, the `geopandas` module provides more options, so I will convert the data to geopandas (aka \"gpd\") now:"
   ]
  },
  {
   "cell_type": "code",
   "execution_count": 45,
   "metadata": {},
   "outputs": [],
   "source": [
    "# convert the information to a geopandas dataframe\n",
    "mappable_gdf = gpd.GeoDataFrame(mappable_grant_info)"
   ]
  },
  {
   "cell_type": "markdown",
   "metadata": {},
   "source": [
    "Using the `type()` function, I can see that this is now a \"GeoDataFrame\" with \"GeoSeries\" in some of the fields."
   ]
  },
  {
   "cell_type": "code",
   "execution_count": 46,
   "metadata": {},
   "outputs": [
    {
     "data": {
      "text/plain": [
       "geopandas.geodataframe.GeoDataFrame"
      ]
     },
     "execution_count": 46,
     "metadata": {},
     "output_type": "execute_result"
    }
   ],
   "source": [
    "type(mappable_gdf)"
   ]
  },
  {
   "cell_type": "code",
   "execution_count": 47,
   "metadata": {},
   "outputs": [
    {
     "data": {
      "text/plain": [
       "geopandas.geoseries.GeoSeries"
      ]
     },
     "execution_count": 47,
     "metadata": {},
     "output_type": "execute_result"
    }
   ],
   "source": [
    "type(mappable_gdf['geometry'])"
   ]
  },
  {
   "cell_type": "markdown",
   "metadata": {},
   "source": [
    "At this point, the `mappable_gdf` data is ready to plot on a map. For these purposes, the data is cleaned and consistent and contains the necessary geospatial coordinates to create a point for each of the 997 grants made during the 1960s decade for which NEH maintained information about the location of the award, and that were made to the U.S. states. "
   ]
  },
  {
   "cell_type": "markdown",
   "metadata": {},
   "source": [
    "## Data cleanup by geography\n",
    "\n",
    "Now I have relatively clean data, and I can use basic mapping functions of geopandas to get an idea of any egregious outliers. For this task, geopandas supports some basic mapping tools (some of the built-in mapping features [included in geopandas](https://geopandas.readthedocs.io/en/latest/gallery/create_geopandas_from_pandas.html)) to get an idea of additional data errors. Once I have taken these additional steps, I can export this data for use later on to create more detailed maps. "
   ]
  },
  {
   "cell_type": "code",
   "execution_count": 48,
   "metadata": {},
   "outputs": [
    {
     "data": {
      "image/png": "[encoded data removed]",
      "text/plain": [
       "<Figure size 432x288 with 1 Axes>"
      ]
     },
     "metadata": {
      "needs_background": "light"
     },
     "output_type": "display_data"
    }
   ],
   "source": [
    "# create a mapspace for the geodataframe\n",
    "world = gpd.read_file(gpd.datasets.get_path('naturalearth_lowres'))\n",
    "\n",
    "usa = world.query('name == \"United States of America\"')\n",
    "\n",
    "ax = usa.plot(\n",
    "    color='white', edgecolor='black'\n",
    ")\n",
    "\n",
    "mappable_gdf.plot(ax=ax, color='red')\n",
    "\n",
    "plt.show()"
   ]
  },
  {
   "cell_type": "markdown",
   "metadata": {},
   "source": [
    "The map is small, but this offers an initial data quality check, and I can see that there are a few points that don't look right. There may be some in Europe (or Canada?) and one that appears to be in the Pacific. It's possible that this is a grant to American Samoa or another US territory in the Pacific, but I want to find out. "
   ]
  },
  {
   "cell_type": "code",
   "execution_count": 49,
   "metadata": {},
   "outputs": [
    {
     "data": {
      "text/html": [
       "<div>\n",
       "<style scoped>\n",
       "    .dataframe tbody tr th:only-of-type {\n",
       "        vertical-align: middle;\n",
       "    }\n",
       "\n",
       "    .dataframe tbody tr th {\n",
       "        vertical-align: top;\n",
       "    }\n",
       "\n",
       "    .dataframe thead th {\n",
       "        text-align: right;\n",
       "    }\n",
       "</style>\n",
       "<table border=\"1\" class=\"dataframe\">\n",
       "  <thead>\n",
       "    <tr style=\"text-align: right;\">\n",
       "      <th></th>\n",
       "      <th>AppNumber</th>\n",
       "      <th>Institution</th>\n",
       "      <th>InstCity</th>\n",
       "      <th>InstState</th>\n",
       "      <th>InstPostalCode</th>\n",
       "      <th>InstCountry</th>\n",
       "      <th>CongressionalDistrict</th>\n",
       "      <th>Latitude</th>\n",
       "      <th>Longitude</th>\n",
       "      <th>YearAwarded</th>\n",
       "      <th>...</th>\n",
       "      <th>Division</th>\n",
       "      <th>AwardOutright</th>\n",
       "      <th>AwardMatching</th>\n",
       "      <th>ProjectDesc</th>\n",
       "      <th>ToSupport</th>\n",
       "      <th>Participants</th>\n",
       "      <th>Disciplines</th>\n",
       "      <th>geoquery</th>\n",
       "      <th>coordinates</th>\n",
       "      <th>geometry</th>\n",
       "    </tr>\n",
       "  </thead>\n",
       "  <tbody>\n",
       "    <tr>\n",
       "      <th>151</th>\n",
       "      <td>FA-10103-67</td>\n",
       "      <td>None</td>\n",
       "      <td>Richmond</td>\n",
       "      <td>VA</td>\n",
       "      <td>None</td>\n",
       "      <td>None</td>\n",
       "      <td>0</td>\n",
       "      <td>-32.8652</td>\n",
       "      <td>151.501</td>\n",
       "      <td>1967</td>\n",
       "      <td>...</td>\n",
       "      <td>Research Programs</td>\n",
       "      <td>13270.0</td>\n",
       "      <td>0.0</td>\n",
       "      <td>No description</td>\n",
       "      <td>No to support statement</td>\n",
       "      <td>NaN</td>\n",
       "      <td>U.S. History</td>\n",
       "      <td>Richmond VA</td>\n",
       "      <td>[151.5012, -32.8652]</td>\n",
       "      <td>POINT (151.50120 -32.86520)</td>\n",
       "    </tr>\n",
       "    <tr>\n",
       "      <th>702</th>\n",
       "      <td>FT-10051-67</td>\n",
       "      <td>Elementary Shakespeare Corp.</td>\n",
       "      <td>Fort Pierce</td>\n",
       "      <td>FL</td>\n",
       "      <td>34982</td>\n",
       "      <td>USA</td>\n",
       "      <td>18</td>\n",
       "      <td>27.4467</td>\n",
       "      <td>-80.3256</td>\n",
       "      <td>1967</td>\n",
       "      <td>...</td>\n",
       "      <td>Research Programs</td>\n",
       "      <td>2000.0</td>\n",
       "      <td>0.0</td>\n",
       "      <td>No description</td>\n",
       "      <td>No to support statement</td>\n",
       "      <td>S. Len Weingart [Project Director]</td>\n",
       "      <td>British Literature</td>\n",
       "      <td>Fort Pierce FL</td>\n",
       "      <td>[-80.3256056, 27.4467056]</td>\n",
       "      <td>POINT (-80.32561 27.44671)</td>\n",
       "    </tr>\n",
       "  </tbody>\n",
       "</table>\n",
       "<p>2 rows × 22 columns</p>\n",
       "</div>"
      ],
      "text/plain": [
       "       AppNumber                   Institution     InstCity InstState  \\\n",
       "151  FA-10103-67                          None     Richmond        VA   \n",
       "702  FT-10051-67  Elementary Shakespeare Corp.  Fort Pierce        FL   \n",
       "\n",
       "    InstPostalCode InstCountry  CongressionalDistrict Latitude Longitude  \\\n",
       "151           None        None                      0 -32.8652   151.501   \n",
       "702          34982         USA                     18  27.4467  -80.3256   \n",
       "\n",
       "     YearAwarded  ...           Division AwardOutright AwardMatching  \\\n",
       "151         1967  ...  Research Programs       13270.0           0.0   \n",
       "702         1967  ...  Research Programs        2000.0           0.0   \n",
       "\n",
       "        ProjectDesc                ToSupport  \\\n",
       "151  No description  No to support statement   \n",
       "702  No description  No to support statement   \n",
       "\n",
       "                           Participants         Disciplines        geoquery  \\\n",
       "151                                 NaN        U.S. History     Richmond VA   \n",
       "702  S. Len Weingart [Project Director]  British Literature  Fort Pierce FL   \n",
       "\n",
       "                   coordinates                     geometry  \n",
       "151       [151.5012, -32.8652]  POINT (151.50120 -32.86520)  \n",
       "702  [-80.3256056, 27.4467056]   POINT (-80.32561 27.44671)  \n",
       "\n",
       "[2 rows x 22 columns]"
      ]
     },
     "execution_count": 49,
     "metadata": {},
     "output_type": "execute_result"
    }
   ],
   "source": [
    "# find the distant outlier... \n",
    "\n",
    "mappable_gdf.sort_values(by=['Latitude','Longitude']).head(2)"
   ]
  },
  {
   "cell_type": "markdown",
   "metadata": {},
   "source": [
    "That one appears to have been geocoded as a location in Richmond Vale, New South Wales, Australia, which was an error that I should've corrected in the geocoding step. But let's correct that now: [Get Lat+Lon](http://teczno.com/squares/#14/37.53851/-77.43428) suggests 37.5385087,-77.43428 would be acceptable, and so does Nominatim:"
   ]
  },
  {
   "cell_type": "code",
   "execution_count": 50,
   "metadata": {},
   "outputs": [
    {
     "data": {
      "text/plain": [
       "Location(Richmond, Richmond City, Virginia, 23298, United States, (37.5385087, -77.43428, 0.0))"
      ]
     },
     "execution_count": 50,
     "metadata": {},
     "output_type": "execute_result"
    }
   ],
   "source": [
    "geocode('Richmond Virginia')"
   ]
  },
  {
   "cell_type": "code",
   "execution_count": 51,
   "metadata": {},
   "outputs": [
    {
     "data": {
      "text/plain": [
       "AppNumber                                        FA-10103-67\n",
       "Institution                                             None\n",
       "InstCity                                            Richmond\n",
       "InstState                                                 VA\n",
       "InstPostalCode                                          None\n",
       "InstCountry                                             None\n",
       "CongressionalDistrict                                      0\n",
       "Latitude                                             37.5385\n",
       "Longitude                                           -77.4343\n",
       "YearAwarded                                             1967\n",
       "ProjectTitle                             Title not available\n",
       "Program                  Fellowships for University Teachers\n",
       "Division                                   Research Programs\n",
       "AwardOutright                                          13270\n",
       "AwardMatching                                              0\n",
       "ProjectDesc                                   No description\n",
       "ToSupport                            No to support statement\n",
       "Participants                                             NaN\n",
       "Disciplines                                     U.S. History\n",
       "geoquery                                         Richmond VA\n",
       "coordinates                             [151.5012, -32.8652]\n",
       "geometry                           POINT (151.5012 -32.8652)\n",
       "Name: 151, dtype: object"
      ]
     },
     "execution_count": 51,
     "metadata": {},
     "output_type": "execute_result"
    }
   ],
   "source": [
    "# update the coordinate values\n",
    "mappable_gdf.at[151,'Latitude'] = 37.5385087\n",
    "mappable_gdf.at[151,'Longitude'] =  -77.43428\n",
    "\n",
    "mappable_gdf.iloc[151]"
   ]
  },
  {
   "cell_type": "code",
   "execution_count": 52,
   "metadata": {},
   "outputs": [],
   "source": [
    "# create a Point for the geometry column\n",
    "mappable_gdf.loc[151,'geometry'] = Point(mappable_gdf.loc[151,'Longitude'], mappable_gdf.loc[151,'Latitude'])"
   ]
  },
  {
   "cell_type": "markdown",
   "metadata": {},
   "source": [
    "Map again... "
   ]
  },
  {
   "cell_type": "code",
   "execution_count": 53,
   "metadata": {},
   "outputs": [
    {
     "data": {
      "image/png": "[encoded data removed]",
      "text/plain": [
       "<Figure size 432x288 with 1 Axes>"
      ]
     },
     "metadata": {
      "needs_background": "light"
     },
     "output_type": "display_data"
    }
   ],
   "source": [
    "# create a mapspace for the geodataframe\n",
    "world = gpd.read_file(gpd.datasets.get_path('naturalearth_lowres'))\n",
    "\n",
    "usa = world.query('name == \"United States of America\"')\n",
    "\n",
    "ax = usa.plot(\n",
    "    color='white', edgecolor='black'\n",
    ")\n",
    "\n",
    "mappable_gdf.plot(ax=ax, color='red')\n",
    "\n",
    "plt.show()"
   ]
  },
  {
   "cell_type": "markdown",
   "metadata": {},
   "source": [
    "There's still appear to be 3 very far to the east of North America... I can identify thes points by sorting the Longitude in descending order:"
   ]
  },
  {
   "cell_type": "code",
   "execution_count": 55,
   "metadata": {},
   "outputs": [
    {
     "data": {
      "text/html": [
       "<div>\n",
       "<style scoped>\n",
       "    .dataframe tbody tr th:only-of-type {\n",
       "        vertical-align: middle;\n",
       "    }\n",
       "\n",
       "    .dataframe tbody tr th {\n",
       "        vertical-align: top;\n",
       "    }\n",
       "\n",
       "    .dataframe thead th {\n",
       "        text-align: right;\n",
       "    }\n",
       "</style>\n",
       "<table border=\"1\" class=\"dataframe\">\n",
       "  <thead>\n",
       "    <tr style=\"text-align: right;\">\n",
       "      <th></th>\n",
       "      <th>AppNumber</th>\n",
       "      <th>Institution</th>\n",
       "      <th>InstCity</th>\n",
       "      <th>InstState</th>\n",
       "      <th>InstPostalCode</th>\n",
       "      <th>InstCountry</th>\n",
       "      <th>CongressionalDistrict</th>\n",
       "      <th>Latitude</th>\n",
       "      <th>Longitude</th>\n",
       "      <th>YearAwarded</th>\n",
       "      <th>...</th>\n",
       "      <th>Division</th>\n",
       "      <th>AwardOutright</th>\n",
       "      <th>AwardMatching</th>\n",
       "      <th>ProjectDesc</th>\n",
       "      <th>ToSupport</th>\n",
       "      <th>Participants</th>\n",
       "      <th>Disciplines</th>\n",
       "      <th>geoquery</th>\n",
       "      <th>coordinates</th>\n",
       "      <th>geometry</th>\n",
       "    </tr>\n",
       "  </thead>\n",
       "  <tbody>\n",
       "    <tr>\n",
       "      <th>341</th>\n",
       "      <td>FT-10462-68</td>\n",
       "      <td>University of Southern Florida</td>\n",
       "      <td>Orlando</td>\n",
       "      <td>DE</td>\n",
       "      <td>32816</td>\n",
       "      <td>USA</td>\n",
       "      <td>7</td>\n",
       "      <td>52.524225</td>\n",
       "      <td>13.409345</td>\n",
       "      <td>1967</td>\n",
       "      <td>...</td>\n",
       "      <td>Research Programs</td>\n",
       "      <td>1500.0</td>\n",
       "      <td>0.0</td>\n",
       "      <td>No description</td>\n",
       "      <td>No to support statement</td>\n",
       "      <td>Richard Lukas [Project Director]</td>\n",
       "      <td>History, General</td>\n",
       "      <td>Orlando DE</td>\n",
       "      <td>[13.4093448, 52.5242253]</td>\n",
       "      <td>POINT (13.40934 52.52423)</td>\n",
       "    </tr>\n",
       "    <tr>\n",
       "      <th>597</th>\n",
       "      <td>FA-10060-67</td>\n",
       "      <td>Unaffiliated Independent Scholar</td>\n",
       "      <td>Belmont</td>\n",
       "      <td>MA</td>\n",
       "      <td>02178-0000</td>\n",
       "      <td>USA</td>\n",
       "      <td>0</td>\n",
       "      <td>48.408657</td>\n",
       "      <td>7.238676</td>\n",
       "      <td>1967</td>\n",
       "      <td>...</td>\n",
       "      <td>Research Programs</td>\n",
       "      <td>13270.0</td>\n",
       "      <td>0.0</td>\n",
       "      <td>No description</td>\n",
       "      <td>No to support statement</td>\n",
       "      <td>Einar Haugen [Project Director]</td>\n",
       "      <td>Literature, Other</td>\n",
       "      <td>Belmont MA</td>\n",
       "      <td>[7.2386756, 48.4086571]</td>\n",
       "      <td>POINT (7.23868 48.40866)</td>\n",
       "    </tr>\n",
       "    <tr>\n",
       "      <th>483</th>\n",
       "      <td>RO-10335-69</td>\n",
       "      <td>None</td>\n",
       "      <td>Dennis</td>\n",
       "      <td>MA</td>\n",
       "      <td>None</td>\n",
       "      <td>USA</td>\n",
       "      <td>0</td>\n",
       "      <td>51.519807</td>\n",
       "      <td>-0.137680</td>\n",
       "      <td>1968</td>\n",
       "      <td>...</td>\n",
       "      <td>Research Programs</td>\n",
       "      <td>4800.0</td>\n",
       "      <td>0.0</td>\n",
       "      <td>No description</td>\n",
       "      <td>No to support statement</td>\n",
       "      <td>NaN</td>\n",
       "      <td>Art History and Criticism</td>\n",
       "      <td>Dennis MA</td>\n",
       "      <td>[-0.13767995578500702, 51.519807150000005]</td>\n",
       "      <td>POINT (-0.13768 51.51981)</td>\n",
       "    </tr>\n",
       "    <tr>\n",
       "      <th>645</th>\n",
       "      <td>FB-10135-67</td>\n",
       "      <td>University of Maine System</td>\n",
       "      <td>Orono</td>\n",
       "      <td>ME</td>\n",
       "      <td>04473-1513</td>\n",
       "      <td>USA</td>\n",
       "      <td>2</td>\n",
       "      <td>44.887320</td>\n",
       "      <td>-68.680500</td>\n",
       "      <td>1967</td>\n",
       "      <td>...</td>\n",
       "      <td>Research Programs</td>\n",
       "      <td>8140.0</td>\n",
       "      <td>0.0</td>\n",
       "      <td>No description</td>\n",
       "      <td>No to support statement</td>\n",
       "      <td>Jerome Nadelhaft [Project Director]</td>\n",
       "      <td>U.S. History</td>\n",
       "      <td>Orono ME</td>\n",
       "      <td>[-68.6805, 44.88732]</td>\n",
       "      <td>POINT (-68.68050 44.88732)</td>\n",
       "    </tr>\n",
       "    <tr>\n",
       "      <th>182</th>\n",
       "      <td>FB-10085-67</td>\n",
       "      <td>Colby College</td>\n",
       "      <td>Waterville</td>\n",
       "      <td>ME</td>\n",
       "      <td>04901-8840</td>\n",
       "      <td>USA</td>\n",
       "      <td>1</td>\n",
       "      <td>44.541900</td>\n",
       "      <td>-69.639730</td>\n",
       "      <td>1967</td>\n",
       "      <td>...</td>\n",
       "      <td>Research Programs</td>\n",
       "      <td>8140.0</td>\n",
       "      <td>0.0</td>\n",
       "      <td>No description</td>\n",
       "      <td>No to support statement</td>\n",
       "      <td>Dorothy Koonce [Project Director]</td>\n",
       "      <td>Classics</td>\n",
       "      <td>Waterville ME</td>\n",
       "      <td>[-69.63973, 44.5419]</td>\n",
       "      <td>POINT (-69.63973 44.54190)</td>\n",
       "    </tr>\n",
       "  </tbody>\n",
       "</table>\n",
       "<p>5 rows × 22 columns</p>\n",
       "</div>"
      ],
      "text/plain": [
       "       AppNumber                       Institution    InstCity InstState  \\\n",
       "341  FT-10462-68    University of Southern Florida     Orlando        DE   \n",
       "597  FA-10060-67  Unaffiliated Independent Scholar     Belmont        MA   \n",
       "483  RO-10335-69                              None      Dennis        MA   \n",
       "645  FB-10135-67        University of Maine System       Orono        ME   \n",
       "182  FB-10085-67                     Colby College  Waterville        ME   \n",
       "\n",
       "    InstPostalCode InstCountry  CongressionalDistrict   Latitude  Longitude  \\\n",
       "341          32816         USA                      7  52.524225  13.409345   \n",
       "597     02178-0000         USA                      0  48.408657   7.238676   \n",
       "483           None         USA                      0  51.519807  -0.137680   \n",
       "645     04473-1513         USA                      2  44.887320 -68.680500   \n",
       "182     04901-8840         USA                      1  44.541900 -69.639730   \n",
       "\n",
       "     YearAwarded  ...           Division AwardOutright AwardMatching  \\\n",
       "341         1967  ...  Research Programs        1500.0           0.0   \n",
       "597         1967  ...  Research Programs       13270.0           0.0   \n",
       "483         1968  ...  Research Programs        4800.0           0.0   \n",
       "645         1967  ...  Research Programs        8140.0           0.0   \n",
       "182         1967  ...  Research Programs        8140.0           0.0   \n",
       "\n",
       "        ProjectDesc                ToSupport  \\\n",
       "341  No description  No to support statement   \n",
       "597  No description  No to support statement   \n",
       "483  No description  No to support statement   \n",
       "645  No description  No to support statement   \n",
       "182  No description  No to support statement   \n",
       "\n",
       "                            Participants                Disciplines  \\\n",
       "341     Richard Lukas [Project Director]           History, General   \n",
       "597      Einar Haugen [Project Director]          Literature, Other   \n",
       "483                                  NaN  Art History and Criticism   \n",
       "645  Jerome Nadelhaft [Project Director]               U.S. History   \n",
       "182    Dorothy Koonce [Project Director]                   Classics   \n",
       "\n",
       "          geoquery                                 coordinates  \\\n",
       "341     Orlando DE                    [13.4093448, 52.5242253]   \n",
       "597     Belmont MA                     [7.2386756, 48.4086571]   \n",
       "483      Dennis MA  [-0.13767995578500702, 51.519807150000005]   \n",
       "645       Orono ME                        [-68.6805, 44.88732]   \n",
       "182  Waterville ME                        [-69.63973, 44.5419]   \n",
       "\n",
       "                       geometry  \n",
       "341   POINT (13.40934 52.52423)  \n",
       "597    POINT (7.23868 48.40866)  \n",
       "483   POINT (-0.13768 51.51981)  \n",
       "645  POINT (-68.68050 44.88732)  \n",
       "182  POINT (-69.63973 44.54190)  \n",
       "\n",
       "[5 rows x 22 columns]"
      ]
     },
     "execution_count": 55,
     "metadata": {},
     "output_type": "execute_result"
    }
   ],
   "source": [
    "# fix a datatype problem for sorting... \n",
    "mappable_gdf = mappable_gdf.astype({'Longitude':'float64','Latitude':'float64'})\n",
    "\n",
    "# find the farthest east... \n",
    "mappable_gdf.sort_values(by=['Longitude'],ascending=False).head(5)"
   ]
  },
  {
   "cell_type": "markdown",
   "metadata": {},
   "source": [
    "These were geocoded in Europe. "
   ]
  },
  {
   "cell_type": "code",
   "execution_count": 56,
   "metadata": {},
   "outputs": [
    {
     "data": {
      "text/plain": [
       "Location(Orlando, 2, Münzstraße, Scheunenviertel, Mitte, Berlin, 10178, Deutschland, (52.5242253, 13.4093448, 0.0))"
      ]
     },
     "execution_count": 56,
     "metadata": {},
     "output_type": "execute_result"
    }
   ],
   "source": [
    "#row 341\n",
    "geocode('Orlando DE')"
   ]
  },
  {
   "cell_type": "code",
   "execution_count": 57,
   "metadata": {},
   "outputs": [
    {
     "data": {
      "text/plain": [
       "AppNumber                                     FT-10462-68\n",
       "Institution                University of Southern Florida\n",
       "InstCity                                          Orlando\n",
       "InstState                                              DE\n",
       "InstPostalCode                                      32816\n",
       "InstCountry                                           USA\n",
       "CongressionalDistrict                                   7\n",
       "Latitude                                          52.5242\n",
       "Longitude                                         13.4093\n",
       "YearAwarded                                          1967\n",
       "ProjectTitle                          Title not available\n",
       "Program                                   Summer Stipends\n",
       "Division                                Research Programs\n",
       "AwardOutright                                        1500\n",
       "AwardMatching                                           0\n",
       "ProjectDesc                                No description\n",
       "ToSupport                         No to support statement\n",
       "Participants             Richard Lukas [Project Director]\n",
       "Disciplines                              History, General\n",
       "geoquery                                       Orlando DE\n",
       "coordinates                      [13.4093448, 52.5242253]\n",
       "geometry                    POINT (13.4093448 52.5242253)\n",
       "Name: 341, dtype: object"
      ]
     },
     "execution_count": 57,
     "metadata": {},
     "output_type": "execute_result"
    }
   ],
   "source": [
    "# this one appears to be a mistake in the data: Florida, not Delaware\n",
    "mappable_gdf.loc[341]"
   ]
  },
  {
   "cell_type": "code",
   "execution_count": 58,
   "metadata": {},
   "outputs": [
    {
     "data": {
      "text/plain": [
       "Location(Belmont, Molsheim, Bas-Rhin, Grand Est, France métropolitaine, 67130, France, (48.4086571, 7.2386756, 0.0))"
      ]
     },
     "execution_count": 58,
     "metadata": {},
     "output_type": "execute_result"
    }
   ],
   "source": [
    "#row 597\n",
    "geocode('Belmont MA')"
   ]
  },
  {
   "cell_type": "code",
   "execution_count": 59,
   "metadata": {},
   "outputs": [
    {
     "data": {
      "text/plain": [
       "Location(Dennis, 30, Cleveland Street, Cavendish Square & Oxford Market (South), Fitzrovia, City of Westminster, London, Greater London, England, W1T 4NG, United Kingdom, (51.519807150000005, -0.13767995578500702, 0.0))"
      ]
     },
     "execution_count": 59,
     "metadata": {},
     "output_type": "execute_result"
    }
   ],
   "source": [
    "#row 483\n",
    "geocode('Dennis MA')"
   ]
  },
  {
   "cell_type": "markdown",
   "metadata": {},
   "source": [
    "I could've avoided this by telling the geocoder to prefer locations in North America. Nominatim, for example, provides options for `bounded` or `country_codes` to limit results. If I am geocoding a longer listin future, I would consider this as an option. For now, these can be corrected by providing a more specific country string with the request:"
   ]
  },
  {
   "cell_type": "code",
   "execution_count": 60,
   "metadata": {},
   "outputs": [
    {
     "data": {
      "text/plain": [
       "Location(Dennis, Barnstable County, Massachusetts, United States, (41.7353872, -70.1939087, 0.0))"
      ]
     },
     "execution_count": 60,
     "metadata": {},
     "output_type": "execute_result"
    }
   ],
   "source": [
    "#this is better... \n",
    "geocode('Dennis MA USA')"
   ]
  },
  {
   "cell_type": "markdown",
   "metadata": {},
   "source": [
    "Following @cduvallet's example, I'm creating a function to update location records. The function takes a specified dataframe, row index, and Location() information."
   ]
  },
  {
   "cell_type": "code",
   "execution_count": 61,
   "metadata": {},
   "outputs": [],
   "source": [
    "def update_location(gdf, rowIndex, location):\n",
    "    '''\n",
    "    The function updates a record's latitude, longitude, and adds a geo Point entry\n",
    "    The To specify the changes: \n",
    "        gdf is a specific dataframe\n",
    "        rowIndex is the numerical index or Name of the row to update\n",
    "        location is a new geoquery string to call for a Lcoation() object from the (Nominatim) geocoder\n",
    "    The function requires the geocoder to be already implemented as geocode() and for Point to be imported from shapely. \n",
    "    '''\n",
    "    newloc = geocode(location)\n",
    "    gdf.at[rowIndex, 'Latitude'] = newloc.latitude\n",
    "    gdf.at[rowIndex, 'Longitude'] = newloc.longitude\n",
    "    # create a Point\n",
    "    gdf.at[rowIndex, 'geometry'] = Point(newloc.longitude,newloc.latitude)"
   ]
  },
  {
   "cell_type": "markdown",
   "metadata": {},
   "source": [
    "I'll test this on item 341. This one had a typo: the state was listed as Delaware, not Florida, so I'll provide the correct geoquery to the function, which will query Nominatim and update the data."
   ]
  },
  {
   "cell_type": "code",
   "execution_count": 62,
   "metadata": {},
   "outputs": [
    {
     "data": {
      "text/plain": [
       "AppNumber                                          FT-10462-68\n",
       "Institution                     University of Southern Florida\n",
       "InstCity                                               Orlando\n",
       "InstState                                                   FL\n",
       "InstPostalCode                                           32816\n",
       "InstCountry                                                USA\n",
       "CongressionalDistrict                                        7\n",
       "Latitude                                                28.548\n",
       "Longitude                                             -81.4128\n",
       "YearAwarded                                               1967\n",
       "ProjectTitle                               Title not available\n",
       "Program                                        Summer Stipends\n",
       "Division                                     Research Programs\n",
       "AwardOutright                                             1500\n",
       "AwardMatching                                                0\n",
       "ProjectDesc                                     No description\n",
       "ToSupport                              No to support statement\n",
       "Participants                  Richard Lukas [Project Director]\n",
       "Disciplines                                   History, General\n",
       "geoquery                                            Orlando DE\n",
       "coordinates                           [13.4093448, 52.5242253]\n",
       "geometry                 POINT (-81.41278418563017 28.5479786)\n",
       "Name: 341, dtype: object"
      ]
     },
     "execution_count": 62,
     "metadata": {},
     "output_type": "execute_result"
    }
   ],
   "source": [
    "# test the function ... \n",
    "#row 341\n",
    "#geocode('Orlando FL')\n",
    "update_location(mappable_gdf, 341, 'Orlando FL')\n",
    "\n",
    "#while we're at it, fix the data typo in the InstState field, also in the previous dataframes\n",
    "mappable_gdf.at[341,'InstState'] = 'FL'\n",
    "mappable_grant_info.at[341,'InstState'] = 'FL'\n",
    "cleaned_grants_for_mappable.at[341,'InstState'] = 'FL'\n",
    "\n",
    "mappable_gdf.loc[341]"
   ]
  },
  {
   "cell_type": "markdown",
   "metadata": {},
   "source": [
    "That looks good, so now I will fix the remaining two."
   ]
  },
  {
   "cell_type": "code",
   "execution_count": 63,
   "metadata": {},
   "outputs": [],
   "source": [
    "# update the other two points\n",
    "update_location(mappable_gdf, 483, 'Dennis MA USA')\n",
    "update_location(mappable_gdf, 597, 'Belmont MA USA')"
   ]
  },
  {
   "cell_type": "code",
   "execution_count": 64,
   "metadata": {},
   "outputs": [
    {
     "data": {
      "image/png": "[encoded data removed]",
      "text/plain": [
       "<Figure size 432x288 with 1 Axes>"
      ]
     },
     "metadata": {
      "needs_background": "light"
     },
     "output_type": "display_data"
    }
   ],
   "source": [
    "# remap... \n",
    "ax = usa.plot(\n",
    "    color='white', edgecolor='black'\n",
    ")\n",
    "mappable_gdf.plot(ax=ax, color='red')\n",
    "\n",
    "plt.show()"
   ]
  },
  {
   "cell_type": "markdown",
   "metadata": {},
   "source": [
    "At least all of the points appear to be in logical places now, even if there may be some underlying noise. This brings the data to a point that is clean enough to map! \n",
    "But first, what other cool things can we do with the data using gepandas?\n",
    "\n",
    "### Geopandas supports various data filtering\n",
    "\n",
    "Now that the data is more or less in a shape that I want, it is ready for more analysis and visualization. We can count the number of awards by state, see all of the awards in a given state, or tally the amount of money awarded to a particular geographic area. And of course, we can make some more detailed maps! First, try some of the filtering and analyzing of the data that pandas supports. \n",
    "\n",
    "For example, how may grants were made to each state? "
   ]
  },
  {
   "cell_type": "code",
   "execution_count": 65,
   "metadata": {},
   "outputs": [
    {
     "data": {
      "text/plain": [
       "InstState\n",
       "AK      6\n",
       "AL      5\n",
       "AR      1\n",
       "AZ     13\n",
       "CA    111\n",
       "CO     10\n",
       "CT     28\n",
       "DC     44\n",
       "DE     12\n",
       "FL     18\n",
       "GA     11\n",
       "HI      8\n",
       "IA     12\n",
       "ID      1\n",
       "IL     36\n",
       "IN     23\n",
       "KS      7\n",
       "KY      7\n",
       "LA      8\n",
       "MA     76\n",
       "MD     29\n",
       "ME      3\n",
       "MI     31\n",
       "MN     14\n",
       "MO      9\n",
       "MS      7\n",
       "MT      3\n",
       "NC     33\n",
       "ND      6\n",
       "NE      7\n",
       "NH      1\n",
       "NJ     36\n",
       "NM      2\n",
       "NV      2\n",
       "NY    146\n",
       "OH     32\n",
       "OK     10\n",
       "OR      6\n",
       "PA     53\n",
       "RI      7\n",
       "SC      9\n",
       "SD      4\n",
       "TN     20\n",
       "TX     26\n",
       "UT      3\n",
       "VA     22\n",
       "VT      3\n",
       "WA     11\n",
       "WI     16\n",
       "WV      3\n",
       "WY      6\n",
       "Name: InstState, dtype: int64"
      ]
     },
     "execution_count": 65,
     "metadata": {},
     "output_type": "execute_result"
    }
   ],
   "source": [
    "# use groupby to count by state\n",
    "mappable_gdf.groupby('InstState').InstState.count()"
   ]
  },
  {
   "cell_type": "markdown",
   "metadata": {},
   "source": [
    "Or I can ask how what grants were made to a specific state:"
   ]
  },
  {
   "cell_type": "code",
   "execution_count": 67,
   "metadata": {},
   "outputs": [
    {
     "data": {
      "text/html": [
       "<div>\n",
       "<style scoped>\n",
       "    .dataframe tbody tr th:only-of-type {\n",
       "        vertical-align: middle;\n",
       "    }\n",
       "\n",
       "    .dataframe tbody tr th {\n",
       "        vertical-align: top;\n",
       "    }\n",
       "\n",
       "    .dataframe thead th {\n",
       "        text-align: right;\n",
       "    }\n",
       "</style>\n",
       "<table border=\"1\" class=\"dataframe\">\n",
       "  <thead>\n",
       "    <tr style=\"text-align: right;\">\n",
       "      <th></th>\n",
       "      <th>AppNumber</th>\n",
       "      <th>Institution</th>\n",
       "      <th>InstCity</th>\n",
       "      <th>InstState</th>\n",
       "      <th>InstPostalCode</th>\n",
       "      <th>InstCountry</th>\n",
       "      <th>CongressionalDistrict</th>\n",
       "      <th>Latitude</th>\n",
       "      <th>Longitude</th>\n",
       "      <th>YearAwarded</th>\n",
       "      <th>...</th>\n",
       "      <th>Division</th>\n",
       "      <th>AwardOutright</th>\n",
       "      <th>AwardMatching</th>\n",
       "      <th>ProjectDesc</th>\n",
       "      <th>ToSupport</th>\n",
       "      <th>Participants</th>\n",
       "      <th>Disciplines</th>\n",
       "      <th>geoquery</th>\n",
       "      <th>coordinates</th>\n",
       "      <th>geometry</th>\n",
       "    </tr>\n",
       "  </thead>\n",
       "  <tbody>\n",
       "    <tr>\n",
       "      <th>326</th>\n",
       "      <td>FT-10374-68</td>\n",
       "      <td>University of Montana</td>\n",
       "      <td>Missoula</td>\n",
       "      <td>MT</td>\n",
       "      <td>59801-4494</td>\n",
       "      <td>USA</td>\n",
       "      <td>1</td>\n",
       "      <td>46.86494</td>\n",
       "      <td>-113.98401</td>\n",
       "      <td>1967</td>\n",
       "      <td>...</td>\n",
       "      <td>Research Programs</td>\n",
       "      <td>1500.0</td>\n",
       "      <td>0.0</td>\n",
       "      <td>No description</td>\n",
       "      <td>No to support statement</td>\n",
       "      <td>Duane Hampton [Project Director]</td>\n",
       "      <td>U.S. History</td>\n",
       "      <td>Missoula MT</td>\n",
       "      <td>[-113.98401, 46.86494]</td>\n",
       "      <td>POINT (-113.98401 46.86494)</td>\n",
       "    </tr>\n",
       "    <tr>\n",
       "      <th>348</th>\n",
       "      <td>FT-10738-69</td>\n",
       "      <td>University of Montana</td>\n",
       "      <td>Missoula</td>\n",
       "      <td>MT</td>\n",
       "      <td>59801-4494</td>\n",
       "      <td>USA</td>\n",
       "      <td>1</td>\n",
       "      <td>46.86494</td>\n",
       "      <td>-113.98401</td>\n",
       "      <td>1969</td>\n",
       "      <td>...</td>\n",
       "      <td>Research Programs</td>\n",
       "      <td>1500.0</td>\n",
       "      <td>0.0</td>\n",
       "      <td>Study of the concept of family in the politica...</td>\n",
       "      <td>No to support statement</td>\n",
       "      <td>Richard Chapman [Project Director]</td>\n",
       "      <td>Political Science, General</td>\n",
       "      <td>Missoula MT</td>\n",
       "      <td>[-113.98401, 46.86494]</td>\n",
       "      <td>POINT (-113.98401 46.86494)</td>\n",
       "    </tr>\n",
       "    <tr>\n",
       "      <th>921</th>\n",
       "      <td>RO-10179-67</td>\n",
       "      <td>University of Montana</td>\n",
       "      <td>Missoula</td>\n",
       "      <td>MT</td>\n",
       "      <td>59801-4494</td>\n",
       "      <td>USA</td>\n",
       "      <td>1</td>\n",
       "      <td>46.86494</td>\n",
       "      <td>-113.98401</td>\n",
       "      <td>1967</td>\n",
       "      <td>...</td>\n",
       "      <td>Research Programs</td>\n",
       "      <td>1370.0</td>\n",
       "      <td>0.0</td>\n",
       "      <td>No description</td>\n",
       "      <td>No to support statement</td>\n",
       "      <td>Joseph Mussulman [Project Director]</td>\n",
       "      <td>History, General</td>\n",
       "      <td>Missoula MT</td>\n",
       "      <td>[-113.98401, 46.86494]</td>\n",
       "      <td>POINT (-113.98401 46.86494)</td>\n",
       "    </tr>\n",
       "  </tbody>\n",
       "</table>\n",
       "<p>3 rows × 22 columns</p>\n",
       "</div>"
      ],
      "text/plain": [
       "       AppNumber            Institution  InstCity InstState InstPostalCode  \\\n",
       "326  FT-10374-68  University of Montana  Missoula        MT     59801-4494   \n",
       "348  FT-10738-69  University of Montana  Missoula        MT     59801-4494   \n",
       "921  RO-10179-67  University of Montana  Missoula        MT     59801-4494   \n",
       "\n",
       "    InstCountry  CongressionalDistrict  Latitude  Longitude  YearAwarded  ...  \\\n",
       "326         USA                      1  46.86494 -113.98401         1967  ...   \n",
       "348         USA                      1  46.86494 -113.98401         1969  ...   \n",
       "921         USA                      1  46.86494 -113.98401         1967  ...   \n",
       "\n",
       "              Division AwardOutright AwardMatching  \\\n",
       "326  Research Programs        1500.0           0.0   \n",
       "348  Research Programs        1500.0           0.0   \n",
       "921  Research Programs        1370.0           0.0   \n",
       "\n",
       "                                           ProjectDesc  \\\n",
       "326                                     No description   \n",
       "348  Study of the concept of family in the politica...   \n",
       "921                                     No description   \n",
       "\n",
       "                   ToSupport                         Participants  \\\n",
       "326  No to support statement     Duane Hampton [Project Director]   \n",
       "348  No to support statement   Richard Chapman [Project Director]   \n",
       "921  No to support statement  Joseph Mussulman [Project Director]   \n",
       "\n",
       "                    Disciplines     geoquery             coordinates  \\\n",
       "326                U.S. History  Missoula MT  [-113.98401, 46.86494]   \n",
       "348  Political Science, General  Missoula MT  [-113.98401, 46.86494]   \n",
       "921            History, General  Missoula MT  [-113.98401, 46.86494]   \n",
       "\n",
       "                        geometry  \n",
       "326  POINT (-113.98401 46.86494)  \n",
       "348  POINT (-113.98401 46.86494)  \n",
       "921  POINT (-113.98401 46.86494)  \n",
       "\n",
       "[3 rows x 22 columns]"
      ]
     },
     "execution_count": 67,
     "metadata": {},
     "output_type": "execute_result"
    }
   ],
   "source": [
    "# show grants from Montana\n",
    "mappable_gdf[mappable_gdf['InstState']=='MT']"
   ]
  },
  {
   "cell_type": "code",
   "execution_count": 68,
   "metadata": {},
   "outputs": [],
   "source": [
    "Minnesota_1960s_grants = mappable_gdf[mappable_gdf['InstState'] == 'MN']"
   ]
  },
  {
   "cell_type": "code",
   "execution_count": 69,
   "metadata": {},
   "outputs": [
    {
     "data": {
      "text/html": [
       "<div>\n",
       "<style scoped>\n",
       "    .dataframe tbody tr th:only-of-type {\n",
       "        vertical-align: middle;\n",
       "    }\n",
       "\n",
       "    .dataframe tbody tr th {\n",
       "        vertical-align: top;\n",
       "    }\n",
       "\n",
       "    .dataframe thead th {\n",
       "        text-align: right;\n",
       "    }\n",
       "</style>\n",
       "<table border=\"1\" class=\"dataframe\">\n",
       "  <thead>\n",
       "    <tr style=\"text-align: right;\">\n",
       "      <th></th>\n",
       "      <th>AppNumber</th>\n",
       "      <th>Institution</th>\n",
       "      <th>InstCity</th>\n",
       "      <th>InstState</th>\n",
       "      <th>InstPostalCode</th>\n",
       "      <th>InstCountry</th>\n",
       "      <th>CongressionalDistrict</th>\n",
       "      <th>Latitude</th>\n",
       "      <th>Longitude</th>\n",
       "      <th>YearAwarded</th>\n",
       "      <th>...</th>\n",
       "      <th>Division</th>\n",
       "      <th>AwardOutright</th>\n",
       "      <th>AwardMatching</th>\n",
       "      <th>ProjectDesc</th>\n",
       "      <th>ToSupport</th>\n",
       "      <th>Participants</th>\n",
       "      <th>Disciplines</th>\n",
       "      <th>geoquery</th>\n",
       "      <th>coordinates</th>\n",
       "      <th>geometry</th>\n",
       "    </tr>\n",
       "  </thead>\n",
       "  <tbody>\n",
       "    <tr>\n",
       "      <th>174</th>\n",
       "      <td>FA-10546-68</td>\n",
       "      <td>None</td>\n",
       "      <td>Minneapolis</td>\n",
       "      <td>MN</td>\n",
       "      <td>None</td>\n",
       "      <td>USA</td>\n",
       "      <td>0</td>\n",
       "      <td>44.97730</td>\n",
       "      <td>-93.265469</td>\n",
       "      <td>1967</td>\n",
       "      <td>...</td>\n",
       "      <td>Research Programs</td>\n",
       "      <td>15520.0</td>\n",
       "      <td>0.0</td>\n",
       "      <td>No description</td>\n",
       "      <td>No to support statement</td>\n",
       "      <td>NaN</td>\n",
       "      <td>American Literature</td>\n",
       "      <td>Minneapolis MN</td>\n",
       "      <td>[-93.2654692, 44.9772995]</td>\n",
       "      <td>POINT (-93.26547 44.97730)</td>\n",
       "    </tr>\n",
       "    <tr>\n",
       "      <th>188</th>\n",
       "      <td>FB-10105-67</td>\n",
       "      <td>None</td>\n",
       "      <td>Minneapolis</td>\n",
       "      <td>MN</td>\n",
       "      <td>None</td>\n",
       "      <td>None</td>\n",
       "      <td>0</td>\n",
       "      <td>44.97730</td>\n",
       "      <td>-93.265469</td>\n",
       "      <td>1967</td>\n",
       "      <td>...</td>\n",
       "      <td>Research Programs</td>\n",
       "      <td>8140.0</td>\n",
       "      <td>0.0</td>\n",
       "      <td>No description</td>\n",
       "      <td>No to support statement</td>\n",
       "      <td>NaN</td>\n",
       "      <td>U.S. History</td>\n",
       "      <td>Minneapolis MN</td>\n",
       "      <td>[-93.2654692, 44.9772995]</td>\n",
       "      <td>POINT (-93.26547 44.97730)</td>\n",
       "    </tr>\n",
       "    <tr>\n",
       "      <th>426</th>\n",
       "      <td>RO-10036-67</td>\n",
       "      <td>University of Minnesota, Twin Cities</td>\n",
       "      <td>Minneapolis</td>\n",
       "      <td>MN</td>\n",
       "      <td>55455-0433</td>\n",
       "      <td>USA</td>\n",
       "      <td>5</td>\n",
       "      <td>44.97779</td>\n",
       "      <td>-93.236240</td>\n",
       "      <td>1967</td>\n",
       "      <td>...</td>\n",
       "      <td>Research Programs</td>\n",
       "      <td>18728.0</td>\n",
       "      <td>0.0</td>\n",
       "      <td>No description</td>\n",
       "      <td>No to support statement</td>\n",
       "      <td>Harrold Alllen [Project Director]</td>\n",
       "      <td>Linguistics</td>\n",
       "      <td>Minneapolis MN</td>\n",
       "      <td>[-93.23624, 44.97779]</td>\n",
       "      <td>POINT (-93.23624 44.97779)</td>\n",
       "    </tr>\n",
       "    <tr>\n",
       "      <th>477</th>\n",
       "      <td>RO-10293-68</td>\n",
       "      <td>None</td>\n",
       "      <td>Minneapolis</td>\n",
       "      <td>MN</td>\n",
       "      <td>None</td>\n",
       "      <td>None</td>\n",
       "      <td>0</td>\n",
       "      <td>44.97730</td>\n",
       "      <td>-93.265469</td>\n",
       "      <td>1968</td>\n",
       "      <td>...</td>\n",
       "      <td>Research Programs</td>\n",
       "      <td>18730.0</td>\n",
       "      <td>0.0</td>\n",
       "      <td>No description</td>\n",
       "      <td>No to support statement</td>\n",
       "      <td>NaN</td>\n",
       "      <td>Linguistics</td>\n",
       "      <td>Minneapolis MN</td>\n",
       "      <td>[-93.2654692, 44.9772995]</td>\n",
       "      <td>POINT (-93.26547 44.97730)</td>\n",
       "    </tr>\n",
       "    <tr>\n",
       "      <th>650</th>\n",
       "      <td>FB-10159-67</td>\n",
       "      <td>University of Minnesota, Twin Cities</td>\n",
       "      <td>Minneapolis</td>\n",
       "      <td>MN</td>\n",
       "      <td>55455-0433</td>\n",
       "      <td>USA</td>\n",
       "      <td>5</td>\n",
       "      <td>44.97779</td>\n",
       "      <td>-93.236240</td>\n",
       "      <td>1967</td>\n",
       "      <td>...</td>\n",
       "      <td>Research Programs</td>\n",
       "      <td>8140.0</td>\n",
       "      <td>0.0</td>\n",
       "      <td>No description</td>\n",
       "      <td>No to support statement</td>\n",
       "      <td>Jasper Hopkins [Project Director]</td>\n",
       "      <td>Philosophy, General</td>\n",
       "      <td>Minneapolis MN</td>\n",
       "      <td>[-93.23624, 44.97779]</td>\n",
       "      <td>POINT (-93.23624 44.97779)</td>\n",
       "    </tr>\n",
       "  </tbody>\n",
       "</table>\n",
       "<p>5 rows × 22 columns</p>\n",
       "</div>"
      ],
      "text/plain": [
       "       AppNumber                           Institution     InstCity InstState  \\\n",
       "174  FA-10546-68                                  None  Minneapolis        MN   \n",
       "188  FB-10105-67                                  None  Minneapolis        MN   \n",
       "426  RO-10036-67  University of Minnesota, Twin Cities  Minneapolis        MN   \n",
       "477  RO-10293-68                                  None  Minneapolis        MN   \n",
       "650  FB-10159-67  University of Minnesota, Twin Cities  Minneapolis        MN   \n",
       "\n",
       "    InstPostalCode InstCountry  CongressionalDistrict  Latitude  Longitude  \\\n",
       "174           None         USA                      0  44.97730 -93.265469   \n",
       "188           None        None                      0  44.97730 -93.265469   \n",
       "426     55455-0433         USA                      5  44.97779 -93.236240   \n",
       "477           None        None                      0  44.97730 -93.265469   \n",
       "650     55455-0433         USA                      5  44.97779 -93.236240   \n",
       "\n",
       "     YearAwarded  ...           Division AwardOutright AwardMatching  \\\n",
       "174         1967  ...  Research Programs       15520.0           0.0   \n",
       "188         1967  ...  Research Programs        8140.0           0.0   \n",
       "426         1967  ...  Research Programs       18728.0           0.0   \n",
       "477         1968  ...  Research Programs       18730.0           0.0   \n",
       "650         1967  ...  Research Programs        8140.0           0.0   \n",
       "\n",
       "        ProjectDesc                ToSupport  \\\n",
       "174  No description  No to support statement   \n",
       "188  No description  No to support statement   \n",
       "426  No description  No to support statement   \n",
       "477  No description  No to support statement   \n",
       "650  No description  No to support statement   \n",
       "\n",
       "                          Participants          Disciplines        geoquery  \\\n",
       "174                                NaN  American Literature  Minneapolis MN   \n",
       "188                                NaN         U.S. History  Minneapolis MN   \n",
       "426  Harrold Alllen [Project Director]          Linguistics  Minneapolis MN   \n",
       "477                                NaN          Linguistics  Minneapolis MN   \n",
       "650  Jasper Hopkins [Project Director]  Philosophy, General  Minneapolis MN   \n",
       "\n",
       "                   coordinates                    geometry  \n",
       "174  [-93.2654692, 44.9772995]  POINT (-93.26547 44.97730)  \n",
       "188  [-93.2654692, 44.9772995]  POINT (-93.26547 44.97730)  \n",
       "426      [-93.23624, 44.97779]  POINT (-93.23624 44.97779)  \n",
       "477  [-93.2654692, 44.9772995]  POINT (-93.26547 44.97730)  \n",
       "650      [-93.23624, 44.97779]  POINT (-93.23624 44.97779)  \n",
       "\n",
       "[5 rows x 22 columns]"
      ]
     },
     "execution_count": 69,
     "metadata": {},
     "output_type": "execute_result"
    }
   ],
   "source": [
    "Minnesota_1960s_grants.head()"
   ]
  },
  {
   "cell_type": "markdown",
   "metadata": {},
   "source": [
    "And I can map grants in a particular state:"
   ]
  },
  {
   "cell_type": "code",
   "execution_count": 70,
   "metadata": {},
   "outputs": [
    {
     "data": {
      "image/png": "[encoded data removed]",
      "text/plain": [
       "<Figure size 432x288 with 1 Axes>"
      ]
     },
     "metadata": {
      "needs_background": "light"
     },
     "output_type": "display_data"
    }
   ],
   "source": [
    "# re map... \n",
    "world = gpd.read_file(gpd.datasets.get_path('naturalearth_lowres'))\n",
    "\n",
    "usa = world.query('name == \"United States of America\"')\n",
    "\n",
    "ax = usa.plot(\n",
    "    color='white', edgecolor='black'\n",
    ")\n",
    "Minnesota_1960s_grants.plot(ax=ax, color='blue')\n",
    "\n",
    "plt.show()"
   ]
  },
  {
   "cell_type": "markdown",
   "metadata": {},
   "source": [
    "# 02c. Exporting\n",
    "\n",
    "## Output the data as geojson\n",
    "\n",
    "Before moving on, I want to conclude this section by creating outputting the data as geojson. This allows us to reuse or share the cleaned data with others, or port it into future visualization tools. For example, the data file can be ported into tools that have increased dynamic mapping capabilities, such as [leaflet.js](https://leafletjs.com/examples/geojson/) or [geojson.io](https://geojson.io/).\n",
    "\n",
    "Geopandas uses the `fiona` library for this functions, so you may need to install and import it."
   ]
  },
  {
   "cell_type": "code",
   "execution_count": null,
   "metadata": {},
   "outputs": [],
   "source": [
    "#!pip install fiona\n",
    "#import fiona"
   ]
  },
  {
   "cell_type": "code",
   "execution_count": 71,
   "metadata": {},
   "outputs": [],
   "source": [
    "# get rid of those useless coordinate & geoquery fields\n",
    "mappable_gdf = mappable_gdf.drop(['coordinates'], axis=1)\n",
    "mappable_gdf = mappable_gdf.drop(['geoquery'], axis=1)\n",
    "mappable_gdf = mappable_gdf.drop(['AwardMatching'], axis=1)"
   ]
  },
  {
   "cell_type": "code",
   "execution_count": 72,
   "metadata": {},
   "outputs": [],
   "source": [
    "# output cleaned data to geojson\n",
    "\n",
    "mappable_gdf.to_file('neh_1960s_grants.geojson', driver='GeoJSON')"
   ]
  },
  {
   "cell_type": "markdown",
   "metadata": {},
   "source": [
    "This notebook used many of the analysis and transformation features in python to analyze, clean, and transform the source dataset of NEH's grants from the 1960s. Now I have a dataset, which I will reuse in the next steps as a basic data for mapping. Stay tuned for the next notebooks to follow this process. "
   ]
  },
  {
   "cell_type": "markdown",
   "metadata": {},
   "source": [
    "### Reference list\n",
    "\n",
    "Credit to the examples in these tutorials (as of January 2021), which were highly informative to the exploratory work outlined above:\n",
    "\n",
    "* Duong Vu, \"[Introduction to Geospatial Data in Python](http://datacamp.com/community/tutorials/geospatial-data-python)\" at _Datacamp_, published 24 October 2018.\n",
    "* \"[Using GeoJson with Leaflet](https://leafletjs.com/examples/geojson/)\" at _leaflet.js_\n",
    "* Lesley Cordero, \"[Getting Started on Geospatial Analysis with Python, GeoJSON and GeoPandas](https://www.twilio.com/blog/2017/08/geospatial-analysis-python-geojson-geopandas.html)\" at Twilio, published 14 August 2017.\n",
    "* Claire Duvallet, \"[Mapping my cross-country road trip with Python](https://cduvallet.github.io/posts/2020/02/road-trip-map)\", published 9 February 2020.\n",
    "* Dani Arribas-Bel, \"[Mapping in Python with geopandas](http://darribas.org/gds15/content/labs/lab_03.html)\", from Geographic Data Science '15. Provides a lot of useful information about creating more complex plots.\n",
    "* @carsonfarmer offers a great overview of using python for geospatial data wrangling, including an overview of pandas for data analysis, geopandas, and many other geospatial tools available in the python and Jupyter environment; see https://github.com/carsonfarmer/python_geospatial/tree/master/notebooks \n",
    "\n",
    "See these sites for US state shapefile information: \n",
    "\n",
    "* Eric Celeste http://eric.clst.org/tech/usgeojson\n",
    "* US Census provides various geographic files for US states and other entities: https://www.census.gov/geographies/mapping-files/time-series/geo/carto-boundary-file.html"
   ]
  }
 ],
 "metadata": {
  "kernelspec": {
   "display_name": "Python 3",
   "language": "python",
   "name": "python3"
  },
  "language_info": {
   "codemirror_mode": {
    "name": "ipython",
    "version": 3
   },
   "file_extension": ".py",
   "mimetype": "text/x-python",
   "name": "python",
   "nbconvert_exporter": "python",
   "pygments_lexer": "ipython3",
   "version": "3.7.6"
  }
 },
 "nbformat": 4,
 "nbformat_minor": 4
}
